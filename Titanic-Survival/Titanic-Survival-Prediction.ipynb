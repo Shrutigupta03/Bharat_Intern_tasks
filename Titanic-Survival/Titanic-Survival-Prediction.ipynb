{
 "cells": [
  {
   "cell_type": "markdown",
   "id": "203838c7-dfc5-480a-9292-fcbdc8208a8f",
   "metadata": {},
   "source": [
    "# Titanic Survival Prediction\n",
    "\n",
    "Dataset : https://www.kaggle.com/competitions/titanic/data?select=train.csv.\n",
    "\n",
    "### Importing Libraries and Initial setup"
   ]
  },
  {
   "cell_type": "code",
   "execution_count": 76,
   "id": "9e7a04d4-5256-4cd7-a2d7-63b4715659fe",
   "metadata": {},
   "outputs": [],
   "source": [
    "import warnings\n",
    "import numpy as np\n",
    "import pandas as pd\n",
    "import matplotlib.pyplot as plt\n",
    "import seaborn as sns\n",
    "%matplotlib inline\n",
    "warnings.filterwarnings('ignore')"
   ]
  },
  {
   "cell_type": "markdown",
   "id": "ecb3540a-274d-4268-b0a0-629ae88f8407",
   "metadata": {},
   "source": [
    "Now let’s read the training and test data using the pandas data frame."
   ]
  },
  {
   "cell_type": "code",
   "execution_count": 77,
   "id": "2fd5cd36-a1a0-408e-8226-b2461ff120dd",
   "metadata": {},
   "outputs": [
    {
     "data": {
      "text/plain": [
       "(891, 12)"
      ]
     },
     "execution_count": 77,
     "metadata": {},
     "output_type": "execute_result"
    }
   ],
   "source": [
    "train = pd.read_csv('train.csv')\n",
    "test = pd.read_csv('test.csv')\n",
    "  \n",
    "# To know number of columns and rows\n",
    "train.shape"
   ]
  },
  {
   "cell_type": "code",
   "execution_count": 78,
   "id": "5ee09c4e-70d1-4748-b83c-0fbff52963d1",
   "metadata": {},
   "outputs": [
    {
     "data": {
      "text/html": [
       "<div>\n",
       "<style scoped>\n",
       "    .dataframe tbody tr th:only-of-type {\n",
       "        vertical-align: middle;\n",
       "    }\n",
       "\n",
       "    .dataframe tbody tr th {\n",
       "        vertical-align: top;\n",
       "    }\n",
       "\n",
       "    .dataframe thead th {\n",
       "        text-align: right;\n",
       "    }\n",
       "</style>\n",
       "<table border=\"1\" class=\"dataframe\">\n",
       "  <thead>\n",
       "    <tr style=\"text-align: right;\">\n",
       "      <th></th>\n",
       "      <th>PassengerId</th>\n",
       "      <th>Survived</th>\n",
       "      <th>Pclass</th>\n",
       "      <th>Name</th>\n",
       "      <th>Sex</th>\n",
       "      <th>Age</th>\n",
       "      <th>SibSp</th>\n",
       "      <th>Parch</th>\n",
       "      <th>Ticket</th>\n",
       "      <th>Fare</th>\n",
       "      <th>Cabin</th>\n",
       "      <th>Embarked</th>\n",
       "    </tr>\n",
       "  </thead>\n",
       "  <tbody>\n",
       "    <tr>\n",
       "      <th>0</th>\n",
       "      <td>1</td>\n",
       "      <td>0</td>\n",
       "      <td>3</td>\n",
       "      <td>Braund, Mr. Owen Harris</td>\n",
       "      <td>male</td>\n",
       "      <td>22.0</td>\n",
       "      <td>1</td>\n",
       "      <td>0</td>\n",
       "      <td>A/5 21171</td>\n",
       "      <td>7.2500</td>\n",
       "      <td>NaN</td>\n",
       "      <td>S</td>\n",
       "    </tr>\n",
       "    <tr>\n",
       "      <th>1</th>\n",
       "      <td>2</td>\n",
       "      <td>1</td>\n",
       "      <td>1</td>\n",
       "      <td>Cumings, Mrs. John Bradley (Florence Briggs Th...</td>\n",
       "      <td>female</td>\n",
       "      <td>38.0</td>\n",
       "      <td>1</td>\n",
       "      <td>0</td>\n",
       "      <td>PC 17599</td>\n",
       "      <td>71.2833</td>\n",
       "      <td>C85</td>\n",
       "      <td>C</td>\n",
       "    </tr>\n",
       "    <tr>\n",
       "      <th>2</th>\n",
       "      <td>3</td>\n",
       "      <td>1</td>\n",
       "      <td>3</td>\n",
       "      <td>Heikkinen, Miss. Laina</td>\n",
       "      <td>female</td>\n",
       "      <td>26.0</td>\n",
       "      <td>0</td>\n",
       "      <td>0</td>\n",
       "      <td>STON/O2. 3101282</td>\n",
       "      <td>7.9250</td>\n",
       "      <td>NaN</td>\n",
       "      <td>S</td>\n",
       "    </tr>\n",
       "    <tr>\n",
       "      <th>3</th>\n",
       "      <td>4</td>\n",
       "      <td>1</td>\n",
       "      <td>1</td>\n",
       "      <td>Futrelle, Mrs. Jacques Heath (Lily May Peel)</td>\n",
       "      <td>female</td>\n",
       "      <td>35.0</td>\n",
       "      <td>1</td>\n",
       "      <td>0</td>\n",
       "      <td>113803</td>\n",
       "      <td>53.1000</td>\n",
       "      <td>C123</td>\n",
       "      <td>S</td>\n",
       "    </tr>\n",
       "    <tr>\n",
       "      <th>4</th>\n",
       "      <td>5</td>\n",
       "      <td>0</td>\n",
       "      <td>3</td>\n",
       "      <td>Allen, Mr. William Henry</td>\n",
       "      <td>male</td>\n",
       "      <td>35.0</td>\n",
       "      <td>0</td>\n",
       "      <td>0</td>\n",
       "      <td>373450</td>\n",
       "      <td>8.0500</td>\n",
       "      <td>NaN</td>\n",
       "      <td>S</td>\n",
       "    </tr>\n",
       "  </tbody>\n",
       "</table>\n",
       "</div>"
      ],
      "text/plain": [
       "   PassengerId  Survived  Pclass  \\\n",
       "0            1         0       3   \n",
       "1            2         1       1   \n",
       "2            3         1       3   \n",
       "3            4         1       1   \n",
       "4            5         0       3   \n",
       "\n",
       "                                                Name     Sex   Age  SibSp  \\\n",
       "0                            Braund, Mr. Owen Harris    male  22.0      1   \n",
       "1  Cumings, Mrs. John Bradley (Florence Briggs Th...  female  38.0      1   \n",
       "2                             Heikkinen, Miss. Laina  female  26.0      0   \n",
       "3       Futrelle, Mrs. Jacques Heath (Lily May Peel)  female  35.0      1   \n",
       "4                           Allen, Mr. William Henry    male  35.0      0   \n",
       "\n",
       "   Parch            Ticket     Fare Cabin Embarked  \n",
       "0      0         A/5 21171   7.2500   NaN        S  \n",
       "1      0          PC 17599  71.2833   C85        C  \n",
       "2      0  STON/O2. 3101282   7.9250   NaN        S  \n",
       "3      0            113803  53.1000  C123        S  \n",
       "4      0            373450   8.0500   NaN        S  "
      ]
     },
     "execution_count": 78,
     "metadata": {},
     "output_type": "execute_result"
    }
   ],
   "source": [
    "train.head()"
   ]
  },
  {
   "cell_type": "code",
   "execution_count": 79,
   "id": "9add74e5-5503-4198-a0a8-df466b4a524c",
   "metadata": {},
   "outputs": [
    {
     "name": "stdout",
     "output_type": "stream",
     "text": [
      "<class 'pandas.core.frame.DataFrame'>\n",
      "RangeIndex: 891 entries, 0 to 890\n",
      "Data columns (total 12 columns):\n",
      " #   Column       Non-Null Count  Dtype  \n",
      "---  ------       --------------  -----  \n",
      " 0   PassengerId  891 non-null    int64  \n",
      " 1   Survived     891 non-null    int64  \n",
      " 2   Pclass       891 non-null    int64  \n",
      " 3   Name         891 non-null    object \n",
      " 4   Sex          891 non-null    object \n",
      " 5   Age          714 non-null    float64\n",
      " 6   SibSp        891 non-null    int64  \n",
      " 7   Parch        891 non-null    int64  \n",
      " 8   Ticket       891 non-null    object \n",
      " 9   Fare         891 non-null    float64\n",
      " 10  Cabin        204 non-null    object \n",
      " 11  Embarked     889 non-null    object \n",
      "dtypes: float64(2), int64(5), object(5)\n",
      "memory usage: 83.7+ KB\n"
     ]
    }
   ],
   "source": [
    "train.info()"
   ]
  },
  {
   "cell_type": "code",
   "execution_count": 80,
   "id": "e60f0345-6602-431c-b063-e23fa106f9d0",
   "metadata": {},
   "outputs": [
    {
     "data": {
      "text/plain": [
       "PassengerId      0\n",
       "Survived         0\n",
       "Pclass           0\n",
       "Name             0\n",
       "Sex              0\n",
       "Age            177\n",
       "SibSp            0\n",
       "Parch            0\n",
       "Ticket           0\n",
       "Fare             0\n",
       "Cabin          687\n",
       "Embarked         2\n",
       "dtype: int64"
      ]
     },
     "execution_count": 80,
     "metadata": {},
     "output_type": "execute_result"
    }
   ],
   "source": [
    "train.isnull().sum()"
   ]
  },
  {
   "cell_type": "markdown",
   "id": "ef66278d-b26e-4893-9943-771a86b9839c",
   "metadata": {},
   "source": [
    "### Visualization\n",
    "Now let us visualize the data using some pie charts and histograms to get a proper understanding of the data.\n",
    "\n",
    "Let us first visualize the number of survivors and death counts."
   ]
  },
  {
   "cell_type": "code",
   "execution_count": 81,
   "id": "8521189b-8b4f-404b-9ce4-d1ca92a60539",
   "metadata": {},
   "outputs": [
    {
     "data": {
      "image/png": "[encoded data removed]",
      "text/plain": [
       "<Figure size 1200x400 with 2 Axes>"
      ]
     },
     "metadata": {},
     "output_type": "display_data"
    }
   ],
   "source": [
    "f, ax = plt.subplots(1, 2, figsize=(12, 4))\n",
    "train['Survived'].value_counts().plot.pie(\n",
    "    explode=[0, 0.1], autopct='%1.1f%%', ax=ax[0], shadow=False)\n",
    "ax[0].set_title('Survivors (1) and the dead (0)')\n",
    "sns.countplot(data = train, x=\"Survived\")\n",
    "ax[1].set_ylabel('Quantity')\n",
    "ax[1].set_title('Survivors (1) and the dead (0)')\n",
    "plt.show()"
   ]
  },
  {
   "cell_type": "markdown",
   "id": "77c1b6b2-d633-458a-a234-6666c7c7cdd5",
   "metadata": {},
   "source": [
    "Sex feature"
   ]
  },
  {
   "cell_type": "code",
   "execution_count": 82,
   "id": "4f7a8d20-0a66-4f23-a606-c69c4f6682f6",
   "metadata": {},
   "outputs": [
    {
     "data": {
      "image/png": "[encoded data removed]",
      "text/plain": [
       "<Figure size 1200x400 with 2 Axes>"
      ]
     },
     "metadata": {},
     "output_type": "display_data"
    }
   ],
   "source": [
    "f, ax = plt.subplots(1, 2, figsize=(12, 4))\n",
    "train[['Sex', 'Survived']].groupby(['Sex']).mean().plot.bar(ax=ax[0])\n",
    "ax[0].set_title('Survivors by sex')\n",
    "sns.countplot(x = 'Sex', hue='Survived', data=train, ax=ax[1])\n",
    "ax[1].set_ylabel('Quantity')\n",
    "ax[1].set_title('Survived (1) and deceased (0): men and women')\n",
    "plt.show()"
   ]
  },
  {
   "cell_type": "markdown",
   "id": "37dd8200-9d00-41fb-8f7f-6fc972cbd5be",
   "metadata": {},
   "source": [
    "### Feature Engineering\n",
    "Now let’s see which columns should we drop and/or modify for the model to predict the testing data. The main tasks in this step is to drop unnecessary features and to convert string data into the numerical category for easier training.\n",
    "\n",
    "We’ll start off by dropping the Cabin feature since not a lot more useful information can be extracted from it. But we will make a new column from the Cabins column to see if there was cabin information allotted or not."
   ]
  },
  {
   "cell_type": "code",
   "execution_count": 83,
   "id": "8d975588-b3ad-48ac-ba90-d60613332fe5",
   "metadata": {},
   "outputs": [],
   "source": [
    "# Create a new column cabinbool indicating\n",
    "# if the cabin value was given or was NaN\n",
    "train[\"CabinBool\"] = (train[\"Cabin\"].notnull().astype('int'))\n",
    "test[\"CabinBool\"] = (test[\"Cabin\"].notnull().astype('int'))\n",
    "  \n",
    "# Delete the column 'Cabin' from test\n",
    "# and train dataset\n",
    "train = train.drop(['Cabin'], axis=1)\n",
    "test = test.drop(['Cabin'], axis=1)"
   ]
  },
  {
   "cell_type": "markdown",
   "id": "1272b945-e8b6-4c3e-bdb8-e317747b9e77",
   "metadata": {},
   "source": [
    "We can also drop the Ticket feature since it’s unlikely to yield any useful information"
   ]
  },
  {
   "cell_type": "code",
   "execution_count": 84,
   "id": "388cd628-7261-4126-8ba4-dc805bcd4265",
   "metadata": {},
   "outputs": [],
   "source": [
    "train = train.drop(['Ticket'], axis=1)\n",
    "test = test.drop(['Ticket'], axis=1)"
   ]
  },
  {
   "cell_type": "markdown",
   "id": "6efaa9f0-7851-411d-a8c8-283718bdb4e0",
   "metadata": {},
   "source": [
    "There are missing values in the Embarked feature. For that, we will replace the NULL values with ‘S’ as the number of Embarks for ‘S’ are higher than the other two."
   ]
  },
  {
   "cell_type": "code",
   "execution_count": 85,
   "id": "5680bd19-635e-439e-9ce1-622b5799826f",
   "metadata": {},
   "outputs": [],
   "source": [
    "# replacing the missing values in \n",
    "# the Embarked feature with S\n",
    "train = train.fillna({\"Embarked\": \"S\"})"
   ]
  },
  {
   "cell_type": "markdown",
   "id": "8cd9c542-a03b-4851-ab8f-f0eb4becb37c",
   "metadata": {},
   "source": [
    "We will now sort the age into groups. We will combine the age groups of the people and categorize them into the same groups. BY doing so we will be having fewer categories and will have a better prediction since it will be a categorical dataset."
   ]
  },
  {
   "cell_type": "code",
   "execution_count": 86,
   "id": "5e73fbb7-1c34-44f4-aca7-de858fb7e28e",
   "metadata": {},
   "outputs": [],
   "source": [
    "# sort the ages into logical categories\n",
    "train[\"Age\"] = train[\"Age\"].fillna(-0.5)\n",
    "test[\"Age\"] = test[\"Age\"].fillna(-0.5)\n",
    "bins = [-1, 0, 5, 12, 18, 24, 35, 60, np.inf]\n",
    "labels = ['Unknown', 'Baby', 'Child', 'Teenager',\n",
    "          'Student', 'Young Adult', 'Adult', 'Senior']\n",
    "train['AgeGroup'] = pd.cut(train[\"Age\"], bins, labels=labels)\n",
    "test['AgeGroup'] = pd.cut(test[\"Age\"], bins, labels=labels)"
   ]
  },
  {
   "cell_type": "markdown",
   "id": "0988900c-e01e-4176-9c2e-d2fa0dc1aa77",
   "metadata": {},
   "source": [
    "In the ‘title’ column for both the test and train set, we will categorize them into an equal number of classes. Then we will assign numerical values to the title for convenience of model training."
   ]
  },
  {
   "cell_type": "code",
   "execution_count": 87,
   "id": "ca201859-154e-4a42-acb5-cac075253e29",
   "metadata": {},
   "outputs": [],
   "source": [
    "# create a combined group of both datasets\n",
    "combine = [train, test]\n",
    "  \n",
    "# extract a title for each Name in the \n",
    "# train and test datasets\n",
    "for dataset in combine:\n",
    "    dataset['Title'] = dataset.Name.str.extract(' ([A-Za-z]+)\\.', expand=False)\n",
    "  \n",
    "pd.crosstab(train['Title'], train['Sex'])\n",
    "  \n",
    "# replace various titles with more common names\n",
    "for dataset in combine:\n",
    "    dataset['Title'] = dataset['Title'].replace(['Lady', 'Capt', 'Col',\n",
    "                                                 'Don', 'Dr', 'Major',\n",
    "                                                 'Rev', 'Jonkheer', 'Dona'],\n",
    "                                                'Rare')\n",
    "  \n",
    "    dataset['Title'] = dataset['Title'].replace(\n",
    "        ['Countess', 'Lady', 'Sir'], 'Royal')\n",
    "    dataset['Title'] = dataset['Title'].replace('Mlle', 'Miss')\n",
    "    dataset['Title'] = dataset['Title'].replace('Ms', 'Miss')\n",
    "    dataset['Title'] = dataset['Title'].replace('Mme', 'Mrs')\n",
    "  \n",
    "train[['Title', 'Survived']].groupby(['Title'], as_index=False).mean()\n",
    "  \n",
    "# map each of the title groups to a numerical value\n",
    "title_mapping = {\"Mr\": 1, \"Miss\": 2, \"Mrs\": 3,\n",
    "                 \"Master\": 4, \"Royal\": 5, \"Rare\": 6}\n",
    "for dataset in combine:\n",
    "    dataset['Title'] = dataset['Title'].map(title_mapping)\n",
    "    dataset['Title'] = dataset['Title'].fillna(0)"
   ]
  },
  {
   "cell_type": "markdown",
   "id": "cf3c2178-b1fa-420e-89f6-ab93478c279a",
   "metadata": {},
   "source": [
    "Now using the title information we can fill in the missing age values."
   ]
  },
  {
   "cell_type": "code",
   "execution_count": 88,
   "id": "b9e9f763-d26a-4b49-817b-4af06dbb9f66",
   "metadata": {},
   "outputs": [],
   "source": [
    "mr_age = train[train[\"Title\"] == 1][\"AgeGroup\"].mode()  # Young Adult\n",
    "miss_age = train[train[\"Title\"] == 2][\"AgeGroup\"].mode()  # Student\n",
    "mrs_age = train[train[\"Title\"] == 3][\"AgeGroup\"].mode()  # Adult\n",
    "master_age = train[train[\"Title\"] == 4][\"AgeGroup\"].mode()  # Baby\n",
    "royal_age = train[train[\"Title\"] == 5][\"AgeGroup\"].mode()  # Adult\n",
    "rare_age = train[train[\"Title\"] == 6][\"AgeGroup\"].mode()  # Adult\n",
    "  \n",
    "age_title_mapping = {1: \"Young Adult\", 2: \"Student\",\n",
    "                     3: \"Adult\", 4: \"Baby\", 5: \"Adult\", 6: \"Adult\"}\n",
    "  \n",
    "for x in range(len(train[\"AgeGroup\"])):\n",
    "    if train[\"AgeGroup\"][x] == \"Unknown\":\n",
    "        train[\"AgeGroup\"][x] = age_title_mapping[train[\"Title\"][x]]\n",
    "  \n",
    "for x in range(len(test[\"AgeGroup\"])):\n",
    "    if test[\"AgeGroup\"][x] == \"Unknown\":\n",
    "        test[\"AgeGroup\"][x] = age_title_mapping[test[\"Title\"][x]]"
   ]
  },
  {
   "cell_type": "markdown",
   "id": "d243ab83-0678-44be-88bb-8a6a82fe71a3",
   "metadata": {},
   "source": [
    "Now assign a numerical value to each age category. Once we have mapped the age into different categories we do not need the age feature. Hence drop it"
   ]
  },
  {
   "cell_type": "code",
   "execution_count": 89,
   "id": "7d359901-7382-4c2b-a846-569d752178fb",
   "metadata": {},
   "outputs": [],
   "source": [
    "# map each Age value to a numerical value\n",
    "age_mapping = {'Baby': 1, 'Child': 2, 'Teenager': 3,\n",
    "               'Student': 4, 'Young Adult': 5, 'Adult': 6, \n",
    "               'Senior': 7}\n",
    "train['AgeGroup'] = train['AgeGroup'].map(age_mapping)\n",
    "test['AgeGroup'] = test['AgeGroup'].map(age_mapping)\n",
    "  \n",
    "train.head()\n",
    "  \n",
    "# dropping the Age feature for now, might change\n",
    "train = train.drop(['Age'], axis=1)\n",
    "test = test.drop(['Age'], axis=1)"
   ]
  },
  {
   "cell_type": "markdown",
   "id": "a626a1d6-25b0-44f9-ad67-440f49dc1fbb",
   "metadata": {},
   "source": [
    "Drop the name feature since it contains no more useful information."
   ]
  },
  {
   "cell_type": "code",
   "execution_count": 90,
   "id": "8dc01460-558e-43a6-927b-ceec04095da6",
   "metadata": {},
   "outputs": [],
   "source": [
    "train = train.drop(['Name'], axis=1)\n",
    "test = test.drop(['Name'], axis=1)"
   ]
  },
  {
   "cell_type": "markdown",
   "id": "305a9beb-56f0-4547-ad59-9b960d1de345",
   "metadata": {},
   "source": [
    "Assign numerical values to sex and embarks categories"
   ]
  },
  {
   "cell_type": "code",
   "execution_count": 91,
   "id": "63df3a75-23ff-494f-97c4-a2e727da4b3b",
   "metadata": {},
   "outputs": [],
   "source": [
    "sex_mapping = {\"male\": 0, \"female\": 1}\n",
    "train['Sex'] = train['Sex'].map(sex_mapping)\n",
    "test['Sex'] = test['Sex'].map(sex_mapping)\n",
    "  \n",
    "embarked_mapping = {\"S\": 1, \"C\": 2, \"Q\": 3}\n",
    "train['Embarked'] = train['Embarked'].map(embarked_mapping)\n",
    "test['Embarked'] = test['Embarked'].map(embarked_mapping)"
   ]
  },
  {
   "cell_type": "markdown",
   "id": "c89e1341-07e1-4520-a1be-511889f14f94",
   "metadata": {},
   "source": [
    "Fill in the missing Fare value in the test set based on the mean fare for that P-class"
   ]
  },
  {
   "cell_type": "code",
   "execution_count": 92,
   "id": "8cca8046-4ba2-45e6-b264-c6039fed9d4e",
   "metadata": {},
   "outputs": [],
   "source": [
    "for x in range(len(test[\"Fare\"])):\n",
    "    if pd.isnull(test[\"Fare\"][x]):\n",
    "        pclass = test[\"Pclass\"][x]  # Pclass = 3\n",
    "        test[\"Fare\"][x] = round(\n",
    "            train[train[\"Pclass\"] == pclass][\"Fare\"].mean(), 4)\n",
    "  \n",
    "# map Fare values into groups of \n",
    "# numerical values\n",
    "train['FareBand'] = pd.qcut(train['Fare'], 4, \n",
    "                            labels=[1, 2, 3, 4])\n",
    "test['FareBand'] = pd.qcut(test['Fare'], 4, \n",
    "                           labels=[1, 2, 3, 4])\n",
    "  \n",
    "# drop Fare values\n",
    "train = train.drop(['Fare'], axis=1)\n",
    "test = test.drop(['Fare'], axis=1)"
   ]
  },
  {
   "cell_type": "code",
   "execution_count": 93,
   "id": "555e6dc6-5b38-4e9b-b72e-06b04e7ecb4c",
   "metadata": {},
   "outputs": [
    {
     "data": {
      "text/html": [
       "<div>\n",
       "<style scoped>\n",
       "    .dataframe tbody tr th:only-of-type {\n",
       "        vertical-align: middle;\n",
       "    }\n",
       "\n",
       "    .dataframe tbody tr th {\n",
       "        vertical-align: top;\n",
       "    }\n",
       "\n",
       "    .dataframe thead th {\n",
       "        text-align: right;\n",
       "    }\n",
       "</style>\n",
       "<table border=\"1\" class=\"dataframe\">\n",
       "  <thead>\n",
       "    <tr style=\"text-align: right;\">\n",
       "      <th></th>\n",
       "      <th>PassengerId</th>\n",
       "      <th>Survived</th>\n",
       "      <th>Pclass</th>\n",
       "      <th>Sex</th>\n",
       "      <th>SibSp</th>\n",
       "      <th>Parch</th>\n",
       "      <th>Embarked</th>\n",
       "      <th>CabinBool</th>\n",
       "      <th>AgeGroup</th>\n",
       "      <th>Title</th>\n",
       "      <th>FareBand</th>\n",
       "    </tr>\n",
       "  </thead>\n",
       "  <tbody>\n",
       "    <tr>\n",
       "      <th>0</th>\n",
       "      <td>1</td>\n",
       "      <td>0</td>\n",
       "      <td>3</td>\n",
       "      <td>0</td>\n",
       "      <td>1</td>\n",
       "      <td>0</td>\n",
       "      <td>1</td>\n",
       "      <td>0</td>\n",
       "      <td>4.0</td>\n",
       "      <td>1</td>\n",
       "      <td>1</td>\n",
       "    </tr>\n",
       "    <tr>\n",
       "      <th>1</th>\n",
       "      <td>2</td>\n",
       "      <td>1</td>\n",
       "      <td>1</td>\n",
       "      <td>1</td>\n",
       "      <td>1</td>\n",
       "      <td>0</td>\n",
       "      <td>2</td>\n",
       "      <td>1</td>\n",
       "      <td>6.0</td>\n",
       "      <td>3</td>\n",
       "      <td>4</td>\n",
       "    </tr>\n",
       "    <tr>\n",
       "      <th>2</th>\n",
       "      <td>3</td>\n",
       "      <td>1</td>\n",
       "      <td>3</td>\n",
       "      <td>1</td>\n",
       "      <td>0</td>\n",
       "      <td>0</td>\n",
       "      <td>1</td>\n",
       "      <td>0</td>\n",
       "      <td>5.0</td>\n",
       "      <td>2</td>\n",
       "      <td>2</td>\n",
       "    </tr>\n",
       "    <tr>\n",
       "      <th>3</th>\n",
       "      <td>4</td>\n",
       "      <td>1</td>\n",
       "      <td>1</td>\n",
       "      <td>1</td>\n",
       "      <td>1</td>\n",
       "      <td>0</td>\n",
       "      <td>1</td>\n",
       "      <td>1</td>\n",
       "      <td>5.0</td>\n",
       "      <td>3</td>\n",
       "      <td>4</td>\n",
       "    </tr>\n",
       "    <tr>\n",
       "      <th>4</th>\n",
       "      <td>5</td>\n",
       "      <td>0</td>\n",
       "      <td>3</td>\n",
       "      <td>0</td>\n",
       "      <td>0</td>\n",
       "      <td>0</td>\n",
       "      <td>1</td>\n",
       "      <td>0</td>\n",
       "      <td>5.0</td>\n",
       "      <td>1</td>\n",
       "      <td>2</td>\n",
       "    </tr>\n",
       "  </tbody>\n",
       "</table>\n",
       "</div>"
      ],
      "text/plain": [
       "   PassengerId  Survived  Pclass  Sex  SibSp  Parch  Embarked  CabinBool  \\\n",
       "0            1         0       3    0      1      0         1          0   \n",
       "1            2         1       1    1      1      0         2          1   \n",
       "2            3         1       3    1      0      0         1          0   \n",
       "3            4         1       1    1      1      0         1          1   \n",
       "4            5         0       3    0      0      0         1          0   \n",
       "\n",
       "   AgeGroup  Title FareBand  \n",
       "0       4.0      1        1  \n",
       "1       6.0      3        4  \n",
       "2       5.0      2        2  \n",
       "3       5.0      3        4  \n",
       "4       5.0      1        2  "
      ]
     },
     "execution_count": 93,
     "metadata": {},
     "output_type": "execute_result"
    }
   ],
   "source": [
    "train.head()"
   ]
  },
  {
   "cell_type": "markdown",
   "id": "f05bcb99-4a06-4144-ae90-bc9cca739a47",
   "metadata": {},
   "source": [
    "### Model Training\n",
    "We will be using Random forest as the algorithm of choice to perform model training. Before that, we will split the data in an 80:20 ratio as a train-test split. For that, we will use the train_test_split() from the sklearn library."
   ]
  },
  {
   "cell_type": "code",
   "execution_count": 94,
   "id": "62fd1842-ae0b-4eec-a4df-12bcdc603c42",
   "metadata": {},
   "outputs": [],
   "source": [
    "from sklearn.model_selection import train_test_split\n",
    "  \n",
    "# Drop the Survived and PassengerId\n",
    "# column from the trainset\n",
    "predictors = train.drop(['Survived', 'PassengerId'], axis=1)\n",
    "target = train[\"Survived\"]\n",
    "x_train, x_val, y_train, y_val = train_test_split(\n",
    "    predictors, target, test_size=0.2, random_state=0)"
   ]
  },
  {
   "cell_type": "markdown",
   "id": "e53bb56c-a9f8-4f3e-a5cb-686545f4f886",
   "metadata": {},
   "source": [
    "Now import the random forest function from the ensemble module of sklearn and for the training set."
   ]
  },
  {
   "cell_type": "code",
   "execution_count": 95,
   "id": "64b7efb5-8923-4017-a8b3-d044575ad84c",
   "metadata": {},
   "outputs": [
    {
     "name": "stdout",
     "output_type": "stream",
     "text": [
      "83.8\n"
     ]
    }
   ],
   "source": [
    "from sklearn.ensemble import RandomForestClassifier\n",
    "from sklearn.metrics import accuracy_score\n",
    "  \n",
    "randomforest = RandomForestClassifier()\n",
    "  \n",
    "# Fit the training data along with its output\n",
    "randomforest.fit(x_train, y_train)\n",
    "y_pred = randomforest.predict(x_val)\n",
    "  \n",
    "# Find the accuracy score of the model\n",
    "acc_randomforest = round(accuracy_score(y_pred, y_val) * 100, 2)\n",
    "print(acc_randomforest)"
   ]
  },
  {
   "cell_type": "markdown",
   "id": "30441847-f654-4d5f-8200-08da9d08919d",
   "metadata": {},
   "source": [
    "### Prediction\n",
    "We are provided with the testing dataset on which we have to perform the prediction. To predict, we will pass the test dataset into our trained model and save it into a CSV file containing the information, passengerid and survival. PassengerId will be the passengerid of the passengers in the test data and the survival will column will be either 0 or 1."
   ]
  },
  {
   "cell_type": "code",
   "execution_count": 74,
   "id": "aeda4bde-9c89-4141-94f2-23a4e36d727a",
   "metadata": {},
   "outputs": [],
   "source": [
    "ids = test['PassengerId']\n",
    "predictions = randomforest.predict(test.drop('PassengerId', axis=1))\n",
    "  \n",
    "# set the output as a dataframe and convert \n",
    "# to csv file named resultfile.csv\n",
    "output = pd.DataFrame({'PassengerId': ids, 'Survived': predictions})\n",
    "output.to_csv('resultfile.csv', index=False)"
   ]
  }
 ],
 "metadata": {
  "kernelspec": {
   "display_name": "Python 3 (ipykernel)",
   "language": "python",
   "name": "python3"
  },
  "language_info": {
   "codemirror_mode": {
    "name": "ipython",
    "version": 3
   },
   "file_extension": ".py",
   "mimetype": "text/x-python",
   "name": "python",
   "nbconvert_exporter": "python",
   "pygments_lexer": "ipython3",
   "version": "3.10.8"
  }
 },
 "nbformat": 4,
 "nbformat_minor": 5
}
