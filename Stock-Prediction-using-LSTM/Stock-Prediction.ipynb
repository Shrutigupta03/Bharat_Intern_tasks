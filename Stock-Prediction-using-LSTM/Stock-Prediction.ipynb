{
 "cells": [
  {
   "attachments": {},
   "cell_type": "markdown",
   "id": "82bb94cb-3283-4808-9cc8-54fe040b9191",
   "metadata": {},
   "source": [
    "# Stock Prediction"
   ]
  },
  {
   "cell_type": "code",
   "execution_count": 92,
   "id": "67d0da65-4b90-44d4-8b4b-4c59404668a3",
   "metadata": {},
   "outputs": [],
   "source": [
    "import pandas as pd\n",
    "import numpy as np\n",
    "from matplotlib import pyplot as plt\n",
    "from sklearn import model_selection\n",
    "from sklearn.preprocessing import StandardScaler\n",
    "from sklearn.model_selection import train_test_split\n",
    "from sklearn.preprocessing import MinMaxScaler"
   ]
  },
  {
   "cell_type": "code",
   "execution_count": 93,
   "id": "1eca824b-71b1-49a1-84ce-d2630e94babe",
   "metadata": {},
   "outputs": [],
   "source": [
    "import warnings\n",
    "warnings.filterwarnings('ignore')"
   ]
  },
  {
   "cell_type": "code",
   "execution_count": 94,
   "id": "a8f6acab-fcb2-4d17-87aa-5101529c4be4",
   "metadata": {},
   "outputs": [],
   "source": [
    "msft = pd.read_csv(\"msft.csv\")"
   ]
  },
  {
   "cell_type": "code",
   "execution_count": 95,
   "id": "33db091e-7a29-4ec7-a4e1-7185dc94c21e",
   "metadata": {},
   "outputs": [
    {
     "data": {
      "text/html": [
       "<div>\n",
       "<style scoped>\n",
       "    .dataframe tbody tr th:only-of-type {\n",
       "        vertical-align: middle;\n",
       "    }\n",
       "\n",
       "    .dataframe tbody tr th {\n",
       "        vertical-align: top;\n",
       "    }\n",
       "\n",
       "    .dataframe thead th {\n",
       "        text-align: right;\n",
       "    }\n",
       "</style>\n",
       "<table border=\"1\" class=\"dataframe\">\n",
       "  <thead>\n",
       "    <tr style=\"text-align: right;\">\n",
       "      <th></th>\n",
       "      <th>Date</th>\n",
       "      <th>Open</th>\n",
       "      <th>High</th>\n",
       "      <th>Low</th>\n",
       "      <th>Close</th>\n",
       "      <th>Volume</th>\n",
       "    </tr>\n",
       "  </thead>\n",
       "  <tbody>\n",
       "    <tr>\n",
       "      <th>0</th>\n",
       "      <td>7/21/2014</td>\n",
       "      <td>83.46</td>\n",
       "      <td>83.53</td>\n",
       "      <td>81.81</td>\n",
       "      <td>81.93</td>\n",
       "      <td>2359300</td>\n",
       "    </tr>\n",
       "    <tr>\n",
       "      <th>1</th>\n",
       "      <td>7/18/2014</td>\n",
       "      <td>83.30</td>\n",
       "      <td>83.40</td>\n",
       "      <td>82.52</td>\n",
       "      <td>83.35</td>\n",
       "      <td>4020800</td>\n",
       "    </tr>\n",
       "    <tr>\n",
       "      <th>2</th>\n",
       "      <td>7/17/2014</td>\n",
       "      <td>84.35</td>\n",
       "      <td>84.63</td>\n",
       "      <td>83.33</td>\n",
       "      <td>83.63</td>\n",
       "      <td>1974000</td>\n",
       "    </tr>\n",
       "    <tr>\n",
       "      <th>3</th>\n",
       "      <td>7/16/2014</td>\n",
       "      <td>83.77</td>\n",
       "      <td>84.91</td>\n",
       "      <td>83.66</td>\n",
       "      <td>84.91</td>\n",
       "      <td>1755600</td>\n",
       "    </tr>\n",
       "    <tr>\n",
       "      <th>4</th>\n",
       "      <td>7/15/2014</td>\n",
       "      <td>84.30</td>\n",
       "      <td>84.38</td>\n",
       "      <td>83.20</td>\n",
       "      <td>83.58</td>\n",
       "      <td>1874700</td>\n",
       "    </tr>\n",
       "  </tbody>\n",
       "</table>\n",
       "</div>"
      ],
      "text/plain": [
       "        Date   Open   High    Low  Close   Volume\n",
       "0  7/21/2014  83.46  83.53  81.81  81.93  2359300\n",
       "1  7/18/2014  83.30  83.40  82.52  83.35  4020800\n",
       "2  7/17/2014  84.35  84.63  83.33  83.63  1974000\n",
       "3  7/16/2014  83.77  84.91  83.66  84.91  1755600\n",
       "4  7/15/2014  84.30  84.38  83.20  83.58  1874700"
      ]
     },
     "execution_count": 95,
     "metadata": {},
     "output_type": "execute_result"
    }
   ],
   "source": [
    "msft.head()"
   ]
  },
  {
   "cell_type": "code",
   "execution_count": 96,
   "id": "7b7d9241-1c9a-48ea-8c99-6e048a204de9",
   "metadata": {},
   "outputs": [
    {
     "data": {
      "text/html": [
       "<div>\n",
       "<style scoped>\n",
       "    .dataframe tbody tr th:only-of-type {\n",
       "        vertical-align: middle;\n",
       "    }\n",
       "\n",
       "    .dataframe tbody tr th {\n",
       "        vertical-align: top;\n",
       "    }\n",
       "\n",
       "    .dataframe thead th {\n",
       "        text-align: right;\n",
       "    }\n",
       "</style>\n",
       "<table border=\"1\" class=\"dataframe\">\n",
       "  <thead>\n",
       "    <tr style=\"text-align: right;\">\n",
       "      <th></th>\n",
       "      <th>Date</th>\n",
       "      <th>Open</th>\n",
       "      <th>High</th>\n",
       "      <th>Low</th>\n",
       "      <th>Close</th>\n",
       "      <th>Volume</th>\n",
       "    </tr>\n",
       "  </thead>\n",
       "  <tbody>\n",
       "    <tr>\n",
       "      <th>3762</th>\n",
       "      <td>1/7/2000</td>\n",
       "      <td>48.55</td>\n",
       "      <td>50.35</td>\n",
       "      <td>47.80</td>\n",
       "      <td>50.00</td>\n",
       "      <td>4621200</td>\n",
       "    </tr>\n",
       "    <tr>\n",
       "      <th>3763</th>\n",
       "      <td>1/6/2000</td>\n",
       "      <td>46.78</td>\n",
       "      <td>48.35</td>\n",
       "      <td>46.28</td>\n",
       "      <td>48.03</td>\n",
       "      <td>3306100</td>\n",
       "    </tr>\n",
       "    <tr>\n",
       "      <th>3764</th>\n",
       "      <td>1/5/2000</td>\n",
       "      <td>46.94</td>\n",
       "      <td>47.50</td>\n",
       "      <td>45.92</td>\n",
       "      <td>46.75</td>\n",
       "      <td>4809900</td>\n",
       "    </tr>\n",
       "    <tr>\n",
       "      <th>3765</th>\n",
       "      <td>1/4/2000</td>\n",
       "      <td>49.80</td>\n",
       "      <td>49.80</td>\n",
       "      <td>47.72</td>\n",
       "      <td>47.85</td>\n",
       "      <td>4489500</td>\n",
       "    </tr>\n",
       "    <tr>\n",
       "      <th>3766</th>\n",
       "      <td>1/3/2000</td>\n",
       "      <td>52.70</td>\n",
       "      <td>53.20</td>\n",
       "      <td>49.60</td>\n",
       "      <td>49.75</td>\n",
       "      <td>3137300</td>\n",
       "    </tr>\n",
       "  </tbody>\n",
       "</table>\n",
       "</div>"
      ],
      "text/plain": [
       "          Date   Open   High    Low  Close   Volume\n",
       "3762  1/7/2000  48.55  50.35  47.80  50.00  4621200\n",
       "3763  1/6/2000  46.78  48.35  46.28  48.03  3306100\n",
       "3764  1/5/2000  46.94  47.50  45.92  46.75  4809900\n",
       "3765  1/4/2000  49.80  49.80  47.72  47.85  4489500\n",
       "3766  1/3/2000  52.70  53.20  49.60  49.75  3137300"
      ]
     },
     "execution_count": 96,
     "metadata": {},
     "output_type": "execute_result"
    }
   ],
   "source": [
    "msft.tail()"
   ]
  },
  {
   "cell_type": "code",
   "execution_count": 97,
   "id": "fbdd4f8a-6b9c-41e2-889e-3e8473f9bd5e",
   "metadata": {},
   "outputs": [
    {
     "data": {
      "text/html": [
       "<div>\n",
       "<style scoped>\n",
       "    .dataframe tbody tr th:only-of-type {\n",
       "        vertical-align: middle;\n",
       "    }\n",
       "\n",
       "    .dataframe tbody tr th {\n",
       "        vertical-align: top;\n",
       "    }\n",
       "\n",
       "    .dataframe thead th {\n",
       "        text-align: right;\n",
       "    }\n",
       "</style>\n",
       "<table border=\"1\" class=\"dataframe\">\n",
       "  <thead>\n",
       "    <tr style=\"text-align: right;\">\n",
       "      <th></th>\n",
       "      <th>Open</th>\n",
       "      <th>High</th>\n",
       "      <th>Low</th>\n",
       "      <th>Close</th>\n",
       "      <th>Volume</th>\n",
       "    </tr>\n",
       "  </thead>\n",
       "  <tbody>\n",
       "    <tr>\n",
       "      <th>count</th>\n",
       "      <td>3767.000000</td>\n",
       "      <td>3767.000000</td>\n",
       "      <td>3767.000000</td>\n",
       "      <td>3767.000000</td>\n",
       "      <td>3.767000e+03</td>\n",
       "    </tr>\n",
       "    <tr>\n",
       "      <th>mean</th>\n",
       "      <td>55.208174</td>\n",
       "      <td>55.811001</td>\n",
       "      <td>54.562599</td>\n",
       "      <td>55.226161</td>\n",
       "      <td>4.936915e+06</td>\n",
       "    </tr>\n",
       "    <tr>\n",
       "      <th>std</th>\n",
       "      <td>17.707358</td>\n",
       "      <td>17.780680</td>\n",
       "      <td>17.669009</td>\n",
       "      <td>17.722486</td>\n",
       "      <td>3.174734e+06</td>\n",
       "    </tr>\n",
       "    <tr>\n",
       "      <th>min</th>\n",
       "      <td>20.690000</td>\n",
       "      <td>20.870000</td>\n",
       "      <td>17.850000</td>\n",
       "      <td>19.950000</td>\n",
       "      <td>0.000000e+00</td>\n",
       "    </tr>\n",
       "    <tr>\n",
       "      <th>25%</th>\n",
       "      <td>42.405000</td>\n",
       "      <td>42.890000</td>\n",
       "      <td>41.850000</td>\n",
       "      <td>42.415000</td>\n",
       "      <td>3.066700e+06</td>\n",
       "    </tr>\n",
       "    <tr>\n",
       "      <th>50%</th>\n",
       "      <td>49.990000</td>\n",
       "      <td>50.600000</td>\n",
       "      <td>49.310000</td>\n",
       "      <td>49.970000</td>\n",
       "      <td>4.482900e+06</td>\n",
       "    </tr>\n",
       "    <tr>\n",
       "      <th>75%</th>\n",
       "      <td>65.995000</td>\n",
       "      <td>66.785000</td>\n",
       "      <td>65.405000</td>\n",
       "      <td>65.965000</td>\n",
       "      <td>6.072700e+06</td>\n",
       "    </tr>\n",
       "    <tr>\n",
       "      <th>max</th>\n",
       "      <td>105.000000</td>\n",
       "      <td>105.740000</td>\n",
       "      <td>103.610000</td>\n",
       "      <td>104.820000</td>\n",
       "      <td>5.086050e+07</td>\n",
       "    </tr>\n",
       "  </tbody>\n",
       "</table>\n",
       "</div>"
      ],
      "text/plain": [
       "              Open         High          Low        Close        Volume\n",
       "count  3767.000000  3767.000000  3767.000000  3767.000000  3.767000e+03\n",
       "mean     55.208174    55.811001    54.562599    55.226161  4.936915e+06\n",
       "std      17.707358    17.780680    17.669009    17.722486  3.174734e+06\n",
       "min      20.690000    20.870000    17.850000    19.950000  0.000000e+00\n",
       "25%      42.405000    42.890000    41.850000    42.415000  3.066700e+06\n",
       "50%      49.990000    50.600000    49.310000    49.970000  4.482900e+06\n",
       "75%      65.995000    66.785000    65.405000    65.965000  6.072700e+06\n",
       "max     105.000000   105.740000   103.610000   104.820000  5.086050e+07"
      ]
     },
     "execution_count": 97,
     "metadata": {},
     "output_type": "execute_result"
    }
   ],
   "source": [
    "msft.describe()"
   ]
  },
  {
   "attachments": {},
   "cell_type": "markdown",
   "id": "532b17bb-01d5-4aa6-8f17-94ef0693746d",
   "metadata": {},
   "source": [
    "# Sorting the data"
   ]
  },
  {
   "attachments": {},
   "cell_type": "markdown",
   "id": "13b7f70a-fed6-4d28-9399-f5923763e625",
   "metadata": {},
   "source": [
    "**Checking for Null values**"
   ]
  },
  {
   "cell_type": "code",
   "execution_count": 98,
   "id": "f0221246-37cb-4555-a706-1c3b9bc73d59",
   "metadata": {},
   "outputs": [
    {
     "data": {
      "text/plain": [
       "Date       object\n",
       "Open      float64\n",
       "High      float64\n",
       "Low       float64\n",
       "Close     float64\n",
       "Volume      int64\n",
       "dtype: object"
      ]
     },
     "execution_count": 98,
     "metadata": {},
     "output_type": "execute_result"
    }
   ],
   "source": [
    "msft.dtypes"
   ]
  },
  {
   "cell_type": "code",
   "execution_count": 99,
   "id": "9bcebabd-2b82-4b08-9ada-3fca5adbfb65",
   "metadata": {},
   "outputs": [],
   "source": [
    "msft['Date'] = msft['Date'].astype('datetime64')"
   ]
  },
  {
   "cell_type": "code",
   "execution_count": 100,
   "id": "72676d7d-2ce6-44f1-b586-f4b45755d48c",
   "metadata": {},
   "outputs": [
    {
     "data": {
      "text/plain": [
       "Date      datetime64[ns]\n",
       "Open             float64\n",
       "High             float64\n",
       "Low              float64\n",
       "Close            float64\n",
       "Volume             int64\n",
       "dtype: object"
      ]
     },
     "execution_count": 100,
     "metadata": {},
     "output_type": "execute_result"
    }
   ],
   "source": [
    "msft.dtypes"
   ]
  },
  {
   "cell_type": "code",
   "execution_count": 101,
   "id": "da89987a-909f-4f82-9bd7-e6ec925055e2",
   "metadata": {},
   "outputs": [
    {
     "data": {
      "text/html": [
       "<div>\n",
       "<style scoped>\n",
       "    .dataframe tbody tr th:only-of-type {\n",
       "        vertical-align: middle;\n",
       "    }\n",
       "\n",
       "    .dataframe tbody tr th {\n",
       "        vertical-align: top;\n",
       "    }\n",
       "\n",
       "    .dataframe thead th {\n",
       "        text-align: right;\n",
       "    }\n",
       "</style>\n",
       "<table border=\"1\" class=\"dataframe\">\n",
       "  <thead>\n",
       "    <tr style=\"text-align: right;\">\n",
       "      <th></th>\n",
       "      <th>column_name</th>\n",
       "      <th>percentage</th>\n",
       "    </tr>\n",
       "  </thead>\n",
       "  <tbody>\n",
       "    <tr>\n",
       "      <th>0</th>\n",
       "      <td>Date</td>\n",
       "      <td>0.0</td>\n",
       "    </tr>\n",
       "    <tr>\n",
       "      <th>1</th>\n",
       "      <td>Open</td>\n",
       "      <td>0.0</td>\n",
       "    </tr>\n",
       "    <tr>\n",
       "      <th>2</th>\n",
       "      <td>High</td>\n",
       "      <td>0.0</td>\n",
       "    </tr>\n",
       "    <tr>\n",
       "      <th>3</th>\n",
       "      <td>Low</td>\n",
       "      <td>0.0</td>\n",
       "    </tr>\n",
       "    <tr>\n",
       "      <th>4</th>\n",
       "      <td>Close</td>\n",
       "      <td>0.0</td>\n",
       "    </tr>\n",
       "    <tr>\n",
       "      <th>5</th>\n",
       "      <td>Volume</td>\n",
       "      <td>0.0</td>\n",
       "    </tr>\n",
       "  </tbody>\n",
       "</table>\n",
       "</div>"
      ],
      "text/plain": [
       "  column_name  percentage\n",
       "0        Date         0.0\n",
       "1        Open         0.0\n",
       "2        High         0.0\n",
       "3         Low         0.0\n",
       "4       Close         0.0\n",
       "5      Volume         0.0"
      ]
     },
     "execution_count": 101,
     "metadata": {},
     "output_type": "execute_result"
    }
   ],
   "source": [
    "NAN = [(c, msft[c].isnull().mean()*100) for c in msft] \n",
    "NAN = pd.DataFrame(NAN, columns=['column_name', 'percentage'])\n",
    "NAN"
   ]
  },
  {
   "cell_type": "code",
   "execution_count": 102,
   "id": "23d3204c-3e52-4481-b56c-5260f346d582",
   "metadata": {},
   "outputs": [
    {
     "data": {
      "text/html": [
       "<div>\n",
       "<style scoped>\n",
       "    .dataframe tbody tr th:only-of-type {\n",
       "        vertical-align: middle;\n",
       "    }\n",
       "\n",
       "    .dataframe tbody tr th {\n",
       "        vertical-align: top;\n",
       "    }\n",
       "\n",
       "    .dataframe thead th {\n",
       "        text-align: right;\n",
       "    }\n",
       "</style>\n",
       "<table border=\"1\" class=\"dataframe\">\n",
       "  <thead>\n",
       "    <tr style=\"text-align: right;\">\n",
       "      <th></th>\n",
       "      <th>Date</th>\n",
       "      <th>Open</th>\n",
       "      <th>High</th>\n",
       "      <th>Low</th>\n",
       "      <th>Close</th>\n",
       "      <th>Volume</th>\n",
       "    </tr>\n",
       "  </thead>\n",
       "  <tbody>\n",
       "    <tr>\n",
       "      <th>3766</th>\n",
       "      <td>2000-01-03</td>\n",
       "      <td>52.70</td>\n",
       "      <td>53.20</td>\n",
       "      <td>49.60</td>\n",
       "      <td>49.75</td>\n",
       "      <td>3137300</td>\n",
       "    </tr>\n",
       "    <tr>\n",
       "      <th>3765</th>\n",
       "      <td>2000-01-04</td>\n",
       "      <td>49.80</td>\n",
       "      <td>49.80</td>\n",
       "      <td>47.72</td>\n",
       "      <td>47.85</td>\n",
       "      <td>4489500</td>\n",
       "    </tr>\n",
       "    <tr>\n",
       "      <th>3764</th>\n",
       "      <td>2000-01-05</td>\n",
       "      <td>46.94</td>\n",
       "      <td>47.50</td>\n",
       "      <td>45.92</td>\n",
       "      <td>46.75</td>\n",
       "      <td>4809900</td>\n",
       "    </tr>\n",
       "    <tr>\n",
       "      <th>3763</th>\n",
       "      <td>2000-01-06</td>\n",
       "      <td>46.78</td>\n",
       "      <td>48.35</td>\n",
       "      <td>46.28</td>\n",
       "      <td>48.03</td>\n",
       "      <td>3306100</td>\n",
       "    </tr>\n",
       "    <tr>\n",
       "      <th>3762</th>\n",
       "      <td>2000-01-07</td>\n",
       "      <td>48.55</td>\n",
       "      <td>50.35</td>\n",
       "      <td>47.80</td>\n",
       "      <td>50.00</td>\n",
       "      <td>4621200</td>\n",
       "    </tr>\n",
       "  </tbody>\n",
       "</table>\n",
       "</div>"
      ],
      "text/plain": [
       "           Date   Open   High    Low  Close   Volume\n",
       "3766 2000-01-03  52.70  53.20  49.60  49.75  3137300\n",
       "3765 2000-01-04  49.80  49.80  47.72  47.85  4489500\n",
       "3764 2000-01-05  46.94  47.50  45.92  46.75  4809900\n",
       "3763 2000-01-06  46.78  48.35  46.28  48.03  3306100\n",
       "3762 2000-01-07  48.55  50.35  47.80  50.00  4621200"
      ]
     },
     "execution_count": 102,
     "metadata": {},
     "output_type": "execute_result"
    }
   ],
   "source": [
    "srt = msft.sort_values(by='Date')\n",
    "srt.head()"
   ]
  },
  {
   "cell_type": "code",
   "execution_count": 103,
   "id": "ba6c3200-ccbd-4a18-8fc0-d922c1223d0c",
   "metadata": {},
   "outputs": [],
   "source": [
    "srt.reset_index(inplace=True)"
   ]
  },
  {
   "cell_type": "code",
   "execution_count": 104,
   "id": "27568399-951e-4446-af67-330133b729ec",
   "metadata": {},
   "outputs": [
    {
     "data": {
      "text/html": [
       "<div>\n",
       "<style scoped>\n",
       "    .dataframe tbody tr th:only-of-type {\n",
       "        vertical-align: middle;\n",
       "    }\n",
       "\n",
       "    .dataframe tbody tr th {\n",
       "        vertical-align: top;\n",
       "    }\n",
       "\n",
       "    .dataframe thead th {\n",
       "        text-align: right;\n",
       "    }\n",
       "</style>\n",
       "<table border=\"1\" class=\"dataframe\">\n",
       "  <thead>\n",
       "    <tr style=\"text-align: right;\">\n",
       "      <th></th>\n",
       "      <th>index</th>\n",
       "      <th>Date</th>\n",
       "      <th>Open</th>\n",
       "      <th>High</th>\n",
       "      <th>Low</th>\n",
       "      <th>Close</th>\n",
       "      <th>Volume</th>\n",
       "    </tr>\n",
       "  </thead>\n",
       "  <tbody>\n",
       "    <tr>\n",
       "      <th>0</th>\n",
       "      <td>3766</td>\n",
       "      <td>2000-01-03</td>\n",
       "      <td>52.70</td>\n",
       "      <td>53.20</td>\n",
       "      <td>49.60</td>\n",
       "      <td>49.75</td>\n",
       "      <td>3137300</td>\n",
       "    </tr>\n",
       "    <tr>\n",
       "      <th>1</th>\n",
       "      <td>3765</td>\n",
       "      <td>2000-01-04</td>\n",
       "      <td>49.80</td>\n",
       "      <td>49.80</td>\n",
       "      <td>47.72</td>\n",
       "      <td>47.85</td>\n",
       "      <td>4489500</td>\n",
       "    </tr>\n",
       "    <tr>\n",
       "      <th>2</th>\n",
       "      <td>3764</td>\n",
       "      <td>2000-01-05</td>\n",
       "      <td>46.94</td>\n",
       "      <td>47.50</td>\n",
       "      <td>45.92</td>\n",
       "      <td>46.75</td>\n",
       "      <td>4809900</td>\n",
       "    </tr>\n",
       "    <tr>\n",
       "      <th>3</th>\n",
       "      <td>3763</td>\n",
       "      <td>2000-01-06</td>\n",
       "      <td>46.78</td>\n",
       "      <td>48.35</td>\n",
       "      <td>46.28</td>\n",
       "      <td>48.03</td>\n",
       "      <td>3306100</td>\n",
       "    </tr>\n",
       "    <tr>\n",
       "      <th>4</th>\n",
       "      <td>3762</td>\n",
       "      <td>2000-01-07</td>\n",
       "      <td>48.55</td>\n",
       "      <td>50.35</td>\n",
       "      <td>47.80</td>\n",
       "      <td>50.00</td>\n",
       "      <td>4621200</td>\n",
       "    </tr>\n",
       "  </tbody>\n",
       "</table>\n",
       "</div>"
      ],
      "text/plain": [
       "   index       Date   Open   High    Low  Close   Volume\n",
       "0   3766 2000-01-03  52.70  53.20  49.60  49.75  3137300\n",
       "1   3765 2000-01-04  49.80  49.80  47.72  47.85  4489500\n",
       "2   3764 2000-01-05  46.94  47.50  45.92  46.75  4809900\n",
       "3   3763 2000-01-06  46.78  48.35  46.28  48.03  3306100\n",
       "4   3762 2000-01-07  48.55  50.35  47.80  50.00  4621200"
      ]
     },
     "execution_count": 104,
     "metadata": {},
     "output_type": "execute_result"
    }
   ],
   "source": [
    "srt.head()"
   ]
  },
  {
   "attachments": {},
   "cell_type": "markdown",
   "id": "26708f82-2805-4d2e-b958-34569d29c9c2",
   "metadata": {},
   "source": [
    "# Data Visualization"
   ]
  },
  {
   "attachments": {},
   "cell_type": "markdown",
   "id": "e39c16e4-96d3-4316-8b86-157da118a477",
   "metadata": {},
   "source": [
    "**Plotting the graph for the Date and Close**"
   ]
  },
  {
   "cell_type": "code",
   "execution_count": 105,
   "id": "9e8e6463-55ad-4bee-afa4-2518f4d655d6",
   "metadata": {},
   "outputs": [
    {
     "data": {
      "image/png": "[encoded data removed]",
      "text/plain": [
       "<Figure size 800x500 with 1 Axes>"
      ]
     },
     "metadata": {},
     "output_type": "display_data"
    }
   ],
   "source": [
    "plt.figure(figsize=(8,5))\n",
    "plt.plot(srt['Date'],srt['Close'])\n",
    "plt.xlabel('Year', size=10)\n",
    "plt.ylabel('Close', size=10)\n",
    "plt.title('Close Price', size = 15)\n",
    "plt.show()"
   ]
  },
  {
   "cell_type": "code",
   "execution_count": 106,
   "id": "ba423372-e3ec-494d-a52f-fc8db44487e2",
   "metadata": {},
   "outputs": [
    {
     "data": {
      "text/plain": [
       "0       49.75\n",
       "1       47.85\n",
       "2       46.75\n",
       "3       48.03\n",
       "4       50.00\n",
       "        ...  \n",
       "3762    83.58\n",
       "3763    84.91\n",
       "3764    83.63\n",
       "3765    83.35\n",
       "3766    81.93\n",
       "Name: Close, Length: 3767, dtype: float64"
      ]
     },
     "execution_count": 106,
     "metadata": {},
     "output_type": "execute_result"
    }
   ],
   "source": [
    "close_srt = srt['Close']\n",
    "close_srt"
   ]
  },
  {
   "attachments": {},
   "cell_type": "markdown",
   "id": "a5ccac92-b806-42d7-b5ec-817838cb63d9",
   "metadata": {},
   "source": [
    "# Feature Scaling(MinMax Scaler)"
   ]
  },
  {
   "cell_type": "code",
   "execution_count": 107,
   "id": "a3401bab-7226-4b1f-9174-86165c5e075d",
   "metadata": {},
   "outputs": [
    {
     "data": {
      "text/plain": [
       "array([[0.35112525],\n",
       "       [0.32873807],\n",
       "       [0.31577707],\n",
       "       ...,\n",
       "       [0.75032402],\n",
       "       [0.74702486],\n",
       "       [0.73029339]])"
      ]
     },
     "execution_count": 107,
     "metadata": {},
     "output_type": "execute_result"
    }
   ],
   "source": [
    "scaler = MinMaxScaler(feature_range=(0, 1))\n",
    "close_srt = scaler.fit_transform(np.array(close_srt).reshape(-1, 1))\n",
    "close_srt"
   ]
  },
  {
   "attachments": {},
   "cell_type": "markdown",
   "id": "34163d38-e3f4-4f83-b737-083fdbb1dea9",
   "metadata": {},
   "source": [
    "Since LSTM is sensitive to the scale of the data, so we apply MinMax Scaler to transform our values between 0 & 1"
   ]
  },
  {
   "attachments": {},
   "cell_type": "markdown",
   "id": "a73536c1-be6a-4b5a-a242-2bcb701db650",
   "metadata": {},
   "source": [
    "# Splitting the Dataset"
   ]
  },
  {
   "cell_type": "code",
   "execution_count": 179,
   "id": "c7151491-2470-4965-8290-c7a30a0f337c",
   "metadata": {},
   "outputs": [],
   "source": [
    "train_size = int(len(close_srt)*0.75)\n",
    "test_size = len(close_srt)-train_size\n",
    "train_data, test_data = close_srt[0:train_size, :], close_srt[train_size:len(close_srt), :1]"
   ]
  },
  {
   "cell_type": "code",
   "execution_count": 180,
   "id": "81f33435-40b0-4e76-a276-615ce59bd432",
   "metadata": {},
   "outputs": [
    {
     "data": {
      "text/plain": [
       "(2825, 1)"
      ]
     },
     "execution_count": 180,
     "metadata": {},
     "output_type": "execute_result"
    }
   ],
   "source": [
    "train_data.shape"
   ]
  },
  {
   "cell_type": "code",
   "execution_count": 181,
   "id": "19cad713-cc00-472b-939b-64598bd307b5",
   "metadata": {},
   "outputs": [
    {
     "data": {
      "text/plain": [
       "(942, 1)"
      ]
     },
     "execution_count": 181,
     "metadata": {},
     "output_type": "execute_result"
    }
   ],
   "source": [
    "test_data.shape"
   ]
  },
  {
   "attachments": {},
   "cell_type": "markdown",
   "id": "8c297b7e-0a37-4edb-96d8-3d1226912211",
   "metadata": {},
   "source": [
    "# Convert an array of value into dataset matrix"
   ]
  },
  {
   "cell_type": "code",
   "execution_count": 182,
   "id": "d177abfd-9c07-4ce2-8ae2-117c04597493",
   "metadata": {},
   "outputs": [],
   "source": [
    "def create_dataset(dataset, time_step=1):\n",
    "    dataX, dataY = [], []\n",
    "    for i in range(len(dataset)-time_step-1):\n",
    "        a = dataset[i:(i+time_step), 0]\n",
    "        dataX.append(a)\n",
    "        dataY.append(dataset[i+time_step, 0])\n",
    "    return np.array(dataX), np.array(dataY)"
   ]
  },
  {
   "attachments": {},
   "cell_type": "markdown",
   "id": "8a1d2596-6ec2-4afc-9c55-d1c73541fd33",
   "metadata": {},
   "source": [
    "# Reshaping of dataset"
   ]
  },
  {
   "cell_type": "code",
   "execution_count": 183,
   "id": "4bc3b54f-ac5f-4cd2-9f29-f3e6747f5a3d",
   "metadata": {},
   "outputs": [],
   "source": [
    "time_step = 100\n",
    "X_train, y_train = create_dataset(train_data, time_step)\n",
    "X_test, y_test = create_dataset(test_data, time_step)"
   ]
  },
  {
   "cell_type": "code",
   "execution_count": 184,
   "id": "46f99152-1aea-484d-8124-7ae19bebd291",
   "metadata": {},
   "outputs": [
    {
     "name": "stdout",
     "output_type": "stream",
     "text": [
      "(2724, 100)\n",
      "(2724,)\n"
     ]
    },
    {
     "data": {
      "text/plain": [
       "(None, None)"
      ]
     },
     "execution_count": 184,
     "metadata": {},
     "output_type": "execute_result"
    }
   ],
   "source": [
    "print(X_train.shape), print(y_train.shape)"
   ]
  },
  {
   "cell_type": "code",
   "execution_count": 185,
   "id": "a12d9885-9a42-4b67-9380-80a498648b7a",
   "metadata": {},
   "outputs": [
    {
     "name": "stdout",
     "output_type": "stream",
     "text": [
      "(841, 100)\n",
      "(841,)\n"
     ]
    },
    {
     "data": {
      "text/plain": [
       "(None, None)"
      ]
     },
     "execution_count": 185,
     "metadata": {},
     "output_type": "execute_result"
    }
   ],
   "source": [
    "print(X_test.shape), print(y_test.shape)"
   ]
  },
  {
   "cell_type": "code",
   "execution_count": 186,
   "id": "978f13ef-adf2-433e-bec4-64fd75f5d749",
   "metadata": {},
   "outputs": [],
   "source": [
    "X_train = X_train.reshape(X_train.shape[0], X_train.shape[1], 1)\n",
    "X_test = X_test.reshape(X_test.shape[0], X_test.shape[1], 1)"
   ]
  },
  {
   "cell_type": "code",
   "execution_count": 187,
   "id": "0ebf2594-0a7e-42ae-a8e3-a3e540ae903b",
   "metadata": {
    "scrolled": true,
    "tags": []
   },
   "outputs": [
    {
     "data": {
      "text/plain": [
       "array([[[0.35112525],\n",
       "        [0.32873807],\n",
       "        [0.31577707],\n",
       "        ...,\n",
       "        [0.33286202],\n",
       "        [0.33580771],\n",
       "        [0.32461412]],\n",
       "\n",
       "       [[0.32873807],\n",
       "        [0.31577707],\n",
       "        [0.33085896],\n",
       "        ...,\n",
       "        [0.33580771],\n",
       "        [0.32461412],\n",
       "        [0.32084364]],\n",
       "\n",
       "       [[0.31577707],\n",
       "        [0.33085896],\n",
       "        [0.35407093],\n",
       "        ...,\n",
       "        [0.32461412],\n",
       "        [0.32084364],\n",
       "        [0.32402498]],\n",
       "\n",
       "       ...,\n",
       "\n",
       "       [[0.30729351],\n",
       "        [0.31283139],\n",
       "        [0.31118181],\n",
       "        ...,\n",
       "        [0.46223636],\n",
       "        [0.45257453],\n",
       "        [0.42818428]],\n",
       "\n",
       "       [[0.31283139],\n",
       "        [0.31118181],\n",
       "        [0.30540827],\n",
       "        ...,\n",
       "        [0.45257453],\n",
       "        [0.42818428],\n",
       "        [0.44244138]],\n",
       "\n",
       "       [[0.31118181],\n",
       "        [0.30540827],\n",
       "        [0.29468599],\n",
       "        ...,\n",
       "        [0.42818428],\n",
       "        [0.44244138],\n",
       "        [0.46317898]]])"
      ]
     },
     "execution_count": 187,
     "metadata": {},
     "output_type": "execute_result"
    }
   ],
   "source": [
    "X_train"
   ]
  },
  {
   "cell_type": "code",
   "execution_count": 188,
   "id": "f010edcf-b696-4c8d-886b-37695d898dbb",
   "metadata": {},
   "outputs": [
    {
     "data": {
      "text/plain": [
       "array([0.32084364, 0.32402498, 0.32013668, ..., 0.44244138, 0.46317898,\n",
       "       0.47130906])"
      ]
     },
     "execution_count": 188,
     "metadata": {},
     "output_type": "execute_result"
    }
   ],
   "source": [
    "y_train"
   ]
  },
  {
   "cell_type": "code",
   "execution_count": 189,
   "id": "b31895f7-6722-487b-be89-d3e79f9aa63d",
   "metadata": {
    "scrolled": true,
    "tags": []
   },
   "outputs": [
    {
     "data": {
      "text/plain": [
       "array([[[0.47213385],\n",
       "        [0.48544833],\n",
       "        [0.48344527],\n",
       "        ...,\n",
       "        [0.54966419],\n",
       "        [0.56415695],\n",
       "        [0.57275834]],\n",
       "\n",
       "       [[0.48544833],\n",
       "        [0.48344527],\n",
       "        [0.47649346],\n",
       "        ...,\n",
       "        [0.56415695],\n",
       "        [0.57275834],\n",
       "        [0.58265583]],\n",
       "\n",
       "       [[0.48344527],\n",
       "        [0.47649346],\n",
       "        [0.47778956],\n",
       "        ...,\n",
       "        [0.57275834],\n",
       "        [0.58265583],\n",
       "        [0.5734653 ]],\n",
       "\n",
       "       ...,\n",
       "\n",
       "       [[0.75244492],\n",
       "        [0.73111818],\n",
       "        [0.74784965],\n",
       "        ...,\n",
       "        [0.74702486],\n",
       "        [0.75939672],\n",
       "        [0.74973489]],\n",
       "\n",
       "       [[0.73111818],\n",
       "        [0.74784965],\n",
       "        [0.70719925],\n",
       "        ...,\n",
       "        [0.75939672],\n",
       "        [0.74973489],\n",
       "        [0.76540591]],\n",
       "\n",
       "       [[0.74784965],\n",
       "        [0.70719925],\n",
       "        [0.7333569 ],\n",
       "        ...,\n",
       "        [0.74973489],\n",
       "        [0.76540591],\n",
       "        [0.75032402]]])"
      ]
     },
     "execution_count": 189,
     "metadata": {},
     "output_type": "execute_result"
    }
   ],
   "source": [
    "X_test"
   ]
  },
  {
   "cell_type": "code",
   "execution_count": 190,
   "id": "0cccbe94-1cbd-4527-ae88-d6e2294b9e6a",
   "metadata": {
    "scrolled": true,
    "tags": []
   },
   "outputs": [
    {
     "data": {
      "text/plain": [
       "array([0.58265583, 0.5734653 , 0.5734653 , 0.54954637, 0.54259456,\n",
       "       0.57099093, 0.53835277, 0.54612937, 0.52928008, 0.52067869,\n",
       "       0.51973607, 0.52362437, 0.50017674, 0.50818899, 0.51408036,\n",
       "       0.50324025, 0.48639095, 0.49181101, 0.48568399, 0.48167786,\n",
       "       0.48721574, 0.49452103, 0.52209261, 0.51207729, 0.48910098,\n",
       "       0.5004124 , 0.5055968 , 0.50253329, 0.4982915 , 0.5190291 ,\n",
       "       0.50901379, 0.50948509, 0.52527395, 0.50842465, 0.50547897,\n",
       "       0.51066337, 0.50488983, 0.53316838, 0.53399317, 0.5242135 ,\n",
       "       0.52244609, 0.51525863, 0.52751267, 0.5462472 , 0.56109344,\n",
       "       0.56427477, 0.56262519, 0.56380346, 0.57146224, 0.57499705,\n",
       "       0.57051962, 0.55378815, 0.55437728, 0.56887004, 0.57205137,\n",
       "       0.56509956, 0.55944386, 0.55437728, 0.5449511 , 0.55154943,\n",
       "       0.54931071, 0.55838341, 0.5514316 , 0.54094497, 0.50830682,\n",
       "       0.50983858, 0.4861553 , 0.47366561, 0.45434193, 0.43219041,\n",
       "       0.40108401, 0.36573583, 0.37893248, 0.34853305, 0.38034641,\n",
       "       0.40296925, 0.40497231, 0.40096618, 0.39531047, 0.36019795,\n",
       "       0.33757511, 0.32862024, 0.33380464, 0.35289266, 0.33345116,\n",
       "       0.32602804, 0.33474726, 0.33085896, 0.35018263, 0.34028514,\n",
       "       0.31942972, 0.28879463, 0.28808766, 0.30988571, 0.31424532,\n",
       "       0.28573112, 0.27936845, 0.291269  , 0.31141746, 0.32826676,\n",
       "       0.32378932, 0.31247791, 0.32850242, 0.31188877, 0.28749853,\n",
       "       0.28655591, 0.29987039, 0.31884058, 0.31294922, 0.32155061,\n",
       "       0.30788264, 0.29574644, 0.28337457, 0.31648403, 0.34240603,\n",
       "       0.34806174, 0.36656062, 0.35760575, 0.36632497, 0.36055143,\n",
       "       0.3695063 , 0.3599623 , 0.3643219 , 0.3552492 , 0.34346648,\n",
       "       0.36337929, 0.37327678, 0.37586898, 0.36114057, 0.40556145,\n",
       "       0.41286674, 0.39165783, 0.36408625, 0.37174502, 0.39330741,\n",
       "       0.36962413, 0.35890185, 0.36337929, 0.35371745, 0.35642748,\n",
       "       0.37292329, 0.36809238, 0.36455756, 0.36090491, 0.35713444,\n",
       "       0.35077177, 0.33227289, 0.32308236, 0.31966537, 0.31212443,\n",
       "       0.32155061, 0.34853305, 0.36066926, 0.40167315, 0.39012608,\n",
       "       0.40096618, 0.40780016, 0.40249794, 0.39978791, 0.39106869,\n",
       "       0.40002357, 0.37304112, 0.36703193, 0.36090491, 0.36738541,\n",
       "       0.37421939, 0.36762107, 0.38824084, 0.38234948, 0.3850595 ,\n",
       "       0.38741605, 0.38741605, 0.39142218, 0.38223165, 0.39142218,\n",
       "       0.39990574, 0.41463415, 0.42889125, 0.42665253, 0.43360434,\n",
       "       0.42382467, 0.42087899, 0.44232355, 0.44244138, 0.45068929,\n",
       "       0.44385531, 0.44739013, 0.4576411 , 0.46046895, 0.4602333 ,\n",
       "       0.45292801, 0.45952633, 0.45681631, 0.46306115, 0.4718982 ,\n",
       "       0.47755391, 0.46965948, 0.45752327, 0.4706021 , 0.47755391,\n",
       "       0.4874514 , 0.48780488, 0.48214917, 0.47849652, 0.48862967,\n",
       "       0.47637563, 0.48049959, 0.48639095, 0.495228  , 0.49546365,\n",
       "       0.50701072, 0.5268057 , 0.53081183, 0.52079651, 0.52586308,\n",
       "       0.52727701, 0.54035584, 0.54872157, 0.54141628, 0.55720514,\n",
       "       0.5501355 , 0.5384706 , 0.5004124 , 0.5073642 , 0.5293979 ,\n",
       "       0.53340403, 0.53693885, 0.54989985, 0.55072464, 0.55956168,\n",
       "       0.56592435, 0.55932603, 0.55708731, 0.55732296, 0.54165194,\n",
       "       0.54082715, 0.55520207, 0.55673383, 0.5423589 , 0.53034052,\n",
       "       0.53776364, 0.54978202, 0.53894191, 0.51372688, 0.51290209,\n",
       "       0.51290209, 0.51290209, 0.49558148, 0.50359373, 0.51372688,\n",
       "       0.49110404, 0.5055968 , 0.53752798, 0.52751267, 0.53092966,\n",
       "       0.5449511 , 0.5151408 , 0.51820431, 0.53305055, 0.53081183,\n",
       "       0.53375751, 0.49770237, 0.49770237, 0.48733357, 0.48273831,\n",
       "       0.46588901, 0.45987982, 0.44197007, 0.44326617, 0.45080712,\n",
       "       0.45728762, 0.4446801 , 0.43996701, 0.44055614, 0.43442913,\n",
       "       0.43584305, 0.4420879 , 0.45210322, 0.43395782, 0.43749264,\n",
       "       0.43713915, 0.43666784, 0.44774361, 0.43407565, 0.42924473,\n",
       "       0.4019088 , 0.39507482, 0.39472134, 0.40897844, 0.42182161,\n",
       "       0.41852245, 0.42276423, 0.42276423, 0.42229292, 0.41416284,\n",
       "       0.42370685, 0.42594556, 0.43878874, 0.43501826, 0.42889125,\n",
       "       0.40226228, 0.3863556 , 0.39000825, 0.39047956, 0.37634029,\n",
       "       0.40944975, 0.41593025, 0.43065865, 0.43772829, 0.43525392,\n",
       "       0.42594556, 0.41840462, 0.417462  , 0.41263108, 0.40897844,\n",
       "       0.42429598, 0.42771297, 0.43548957, 0.44197007, 0.45552021,\n",
       "       0.44845057, 0.42759515, 0.42464946, 0.42665253, 0.44550489,\n",
       "       0.45940851, 0.47472605, 0.46577118, 0.46105809, 0.44538706,\n",
       "       0.46848121, 0.47637563, 0.4861553 , 0.48297396, 0.4835631 ,\n",
       "       0.48285613, 0.47790739, 0.48674443, 0.4861553 , 0.48980794,\n",
       "       0.49605279, 0.49899847, 0.50771769, 0.49923412, 0.49169318,\n",
       "       0.4969954 , 0.50512549, 0.50076588, 0.50159067, 0.48627312,\n",
       "       0.49322493, 0.50064805, 0.48969011, 0.4887475 , 0.51631908,\n",
       "       0.52138565, 0.52056086, 0.53929539, 0.53858843, 0.53081183,\n",
       "       0.55001767, 0.55025333, 0.55178508, 0.55378815, 0.55956168,\n",
       "       0.56498174, 0.56003299, 0.56498174, 0.55107812, 0.54907506,\n",
       "       0.5384706 , 0.55979734, 0.54978202, 0.55249205, 0.53788147,\n",
       "       0.55131377, 0.53634971, 0.52350654, 0.51997172, 0.53022269,\n",
       "       0.52350654, 0.52963356, 0.53764581, 0.53670319, 0.54459762,\n",
       "       0.5410628 , 0.53257924, 0.50135501, 0.50324025, 0.50936727,\n",
       "       0.51525863, 0.51396253, 0.52020738, 0.51820431, 0.52727701,\n",
       "       0.53187228, 0.52327088, 0.52928008, 0.51278426, 0.51219512,\n",
       "       0.50924944, 0.50795334, 0.52008955, 0.51466949, 0.50960292,\n",
       "       0.50135501, 0.52315306, 0.54023801, 0.54000236, 0.54942854,\n",
       "       0.56073996, 0.55897255, 0.56498174, 0.56745611, 0.57511488,\n",
       "       0.57676446, 0.58348062, 0.5773536 , 0.58147755, 0.59361376,\n",
       "       0.58984329, 0.59691293, 0.60504301, 0.60798869, 0.6110522 ,\n",
       "       0.61376222, 0.6149405 , 0.62236361, 0.62613409, 0.61682573,\n",
       "       0.60351125, 0.60351125, 0.60351125, 0.60351125, 0.61093437,\n",
       "       0.6032756 , 0.6032756 , 0.6032756 , 0.62719453, 0.61741487,\n",
       "       0.6188288 , 0.60904913, 0.60315777, 0.60633911, 0.60056557,\n",
       "       0.60150819, 0.61046306, 0.61164133, 0.61741487, 0.62743019,\n",
       "       0.62707671, 0.63461765, 0.62636974, 0.62342406, 0.634382  ,\n",
       "       0.65570873, 0.65547308, 0.6581831 , 0.64981737, 0.64463297,\n",
       "       0.65865441, 0.62672322, 0.6304937 , 0.61435136, 0.61258395,\n",
       "       0.61423353, 0.61152351, 0.60751738, 0.61953576, 0.60527866,\n",
       "       0.59856251, 0.60681042, 0.634382  , 0.6382703 , 0.6227171 ,\n",
       "       0.64062684, 0.64875692, 0.60928479, 0.61435136, 0.61541181,\n",
       "       0.61128785, 0.60822434, 0.62566278, 0.63072935, 0.62978673,\n",
       "       0.62837281, 0.63072935, 0.62931542, 0.63709202, 0.65240957,\n",
       "       0.64969954, 0.64062684, 0.6291976 , 0.63143631, 0.60504301,\n",
       "       0.59915164, 0.58465889, 0.58524803, 0.56592435, 0.56993048,\n",
       "       0.56993048, 0.56993048, 0.58406975, 0.58147755, 0.57794274,\n",
       "       0.55284553, 0.55084246, 0.55331684, 0.57205137, 0.58159538,\n",
       "       0.5708731 , 0.57358313, 0.56757394, 0.53729233, 0.53823495,\n",
       "       0.53823495, 0.54306587, 0.56215388, 0.57028396, 0.58972546,\n",
       "       0.62024272, 0.59832685, 0.60056557, 0.60056557, 0.61093437,\n",
       "       0.62907977, 0.62507364, 0.63402851, 0.63249676, 0.63756333,\n",
       "       0.63461765, 0.63673854, 0.64039119, 0.63190762, 0.63662071,\n",
       "       0.64180511, 0.6361494 , 0.65276305, 0.65347001, 0.63991988,\n",
       "       0.63037587, 0.63944857, 0.65217391, 0.64510428, 0.64852127,\n",
       "       0.65134912, 0.65794745, 0.64981737, 0.62648757, 0.60834217,\n",
       "       0.62307058, 0.6356781 , 0.62931542, 0.62354189, 0.61729704,\n",
       "       0.62283492, 0.63355721, 0.64109815, 0.6356781 , 0.6006834 ,\n",
       "       0.5838341 , 0.57110875, 0.58171321, 0.5864263 , 0.57004831,\n",
       "       0.57358313, 0.57311182, 0.56910569, 0.56344998, 0.57841405,\n",
       "       0.55390597, 0.57912101, 0.5864263 , 0.58913633, 0.60386473,\n",
       "       0.59514552, 0.59915164, 0.59078591, 0.59950513, 0.59773772,\n",
       "       0.58972546, 0.59172853, 0.58736892, 0.58807588, 0.55131377,\n",
       "       0.5410628 , 0.54872157, 0.55956168, 0.55037116, 0.56132909,\n",
       "       0.56474608, 0.55037116, 0.54035584, 0.53104748, 0.53316838,\n",
       "       0.52833746, 0.54389066, 0.56533522, 0.56498174, 0.56368564,\n",
       "       0.56627784, 0.56592435, 0.56168257, 0.55484859, 0.56981265,\n",
       "       0.57829622, 0.58077059, 0.56733828, 0.55249205, 0.5514316 ,\n",
       "       0.54412631, 0.56144692, 0.55708731, 0.56462825, 0.55567338,\n",
       "       0.55260987, 0.55744079, 0.582538  , 0.58524803, 0.58760457,\n",
       "       0.58725109, 0.61729704, 0.61423353, 0.61517615, 0.6162366 ,\n",
       "       0.61317309, 0.61682573, 0.61741487, 0.61552963, 0.61435136,\n",
       "       0.60775303, 0.60032992, 0.60893131, 0.60787086, 0.60091905,\n",
       "       0.59868033, 0.59408507, 0.5903146 , 0.58854719, 0.60822434,\n",
       "       0.60963827, 0.60681042, 0.61529398, 0.62636974, 0.62448451,\n",
       "       0.63108283, 0.63072935, 0.63650289, 0.6374455 , 0.63909509,\n",
       "       0.65064216, 0.65676918, 0.66089313, 0.65841876, 0.66784494,\n",
       "       0.6672558 , 0.66160009, 0.65841876, 0.65865441, 0.66242489,\n",
       "       0.65665135, 0.65889007, 0.66148227, 0.66348533, 0.68186638,\n",
       "       0.68398727, 0.68351597, 0.67844939, 0.67456109, 0.66925887,\n",
       "       0.66796277, 0.68033463, 0.67821374, 0.68398727, 0.68610817,\n",
       "       0.69105691, 0.69541652, 0.67526806, 0.65712266, 0.64816779,\n",
       "       0.65618004, 0.65594439, 0.64969954, 0.64109815, 0.6361494 ,\n",
       "       0.63273241, 0.65064216, 0.63980205, 0.64286556, 0.65158478,\n",
       "       0.66053965, 0.67102628, 0.67102628, 0.67102628, 0.67102628,\n",
       "       0.68339814, 0.67797808, 0.67797808, 0.67797808, 0.66489926,\n",
       "       0.66713798, 0.66537057, 0.69011429, 0.68398727, 0.66890538,\n",
       "       0.67691764, 0.67797808, 0.6789207 , 0.68610817, 0.69565217,\n",
       "       0.70154354, 0.70590315, 0.71474019, 0.71014493, 0.70448922,\n",
       "       0.68174856, 0.67939201, 0.69730176, 0.69577   , 0.70437139,\n",
       "       0.70201485, 0.68386945, 0.66737363, 0.66808059, 0.68599034,\n",
       "       0.69364911, 0.68775775, 0.70802404, 0.71426888, 0.72239896,\n",
       "       0.73712737, 0.73347473, 0.7385413 , 0.73995523, 0.73394604,\n",
       "       0.73312124, 0.74596442, 0.74384353, 0.75244492, 0.73111818,\n",
       "       0.74784965, 0.70719925, 0.7333569 , 0.72133852, 0.72110286,\n",
       "       0.70390008, 0.69977613, 0.70437139, 0.68634382, 0.65877224,\n",
       "       0.67126193, 0.68186638, 0.68198421, 0.68622599, 0.67797808,\n",
       "       0.68398727, 0.66631318, 0.68221987, 0.69329563, 0.69812655,\n",
       "       0.71238365, 0.71556498, 0.71603629, 0.71191234, 0.70790621,\n",
       "       0.71662543, 0.6944739 , 0.69871568, 0.69388476, 0.69942265,\n",
       "       0.67950984, 0.68646165, 0.67196889, 0.68481207, 0.70001178,\n",
       "       0.70001178, 0.70001178, 0.72652292, 0.72487334, 0.73194297,\n",
       "       0.721692  , 0.72451985, 0.74066219, 0.74796748, 0.74796748,\n",
       "       0.75480146, 0.72263462, 0.7100271 , 0.72216331, 0.73571344,\n",
       "       0.73618475, 0.74879227, 0.74867444, 0.75103099, 0.74490397,\n",
       "       0.73500648, 0.74030871, 0.73618475, 0.74254743, 0.74290091,\n",
       "       0.74384353, 0.75197361, 0.75986803, 0.76422764, 0.76328502,\n",
       "       0.76022152, 0.760575  , 0.76481678, 0.76752681, 0.77153293,\n",
       "       0.77659951, 0.77942736, 0.77671733, 0.7748321 , 0.78060563,\n",
       "       0.77235772, 0.76846942, 0.77954519, 0.77848474, 0.7903853 ,\n",
       "       0.79427359, 0.78743961, 0.7843761 , 0.77848474, 0.76646636,\n",
       "       0.76222458, 0.76681984, 0.77070814, 0.77636385, 0.7916814 ,\n",
       "       0.79062095, 0.77907388, 0.76281372, 0.77235772, 0.74784965,\n",
       "       0.74702486, 0.75939672, 0.74973489, 0.76540591, 0.75032402,\n",
       "       0.74702486])"
      ]
     },
     "execution_count": 190,
     "metadata": {},
     "output_type": "execute_result"
    }
   ],
   "source": [
    "y_test"
   ]
  },
  {
   "attachments": {},
   "cell_type": "markdown",
   "id": "f0e83ac3-99d1-4cfb-a05f-d68b1088a111",
   "metadata": {},
   "source": [
    "# Creating the stacked LSTM Model"
   ]
  },
  {
   "cell_type": "code",
   "execution_count": 191,
   "id": "0f4bee51-d7fc-47f8-bbe7-c8072b2627eb",
   "metadata": {},
   "outputs": [],
   "source": [
    "from keras.models import Sequential\n",
    "from keras.layers import Dense\n",
    "from keras.layers import LSTM\n",
    "from keras.layers import Dropout\n",
    "import tensorflow as tf"
   ]
  },
  {
   "cell_type": "code",
   "execution_count": 192,
   "id": "76ac84a7-d6eb-47b4-af29-239d6580e970",
   "metadata": {
    "tags": []
   },
   "outputs": [],
   "source": [
    "#Creating LSTM Model\n",
    "model = Sequential()\n",
    "model.add(LSTM(50, input_shape=(100, 1), return_sequences=True))\n",
    "model.add(LSTM(50, return_sequences=True))\n",
    "model.add(LSTM(50))\n",
    "model.add(Dense(1))\n",
    "model.compile(loss='mean_squared_error', optimizer='adam')"
   ]
  },
  {
   "cell_type": "code",
   "execution_count": 193,
   "id": "fcb6cb62-9357-4a46-b601-e9d544cbc614",
   "metadata": {},
   "outputs": [
    {
     "name": "stdout",
     "output_type": "stream",
     "text": [
      "Model: \"sequential_2\"\n",
      "_________________________________________________________________\n",
      " Layer (type)                Output Shape              Param #   \n",
      "=================================================================\n",
      " lstm_6 (LSTM)               (None, 100, 50)           10400     \n",
      "                                                                 \n",
      " lstm_7 (LSTM)               (None, 100, 50)           20200     \n",
      "                                                                 \n",
      " lstm_8 (LSTM)               (None, 50)                20200     \n",
      "                                                                 \n",
      " dense_2 (Dense)             (None, 1)                 51        \n",
      "                                                                 \n",
      "=================================================================\n",
      "Total params: 50851 (198.64 KB)\n",
      "Trainable params: 50851 (198.64 KB)\n",
      "Non-trainable params: 0 (0.00 Byte)\n",
      "_________________________________________________________________\n"
     ]
    }
   ],
   "source": [
    "model.summary()"
   ]
  },
  {
   "attachments": {},
   "cell_type": "markdown",
   "id": "0e81213f-492d-41ce-9e80-ac2844789387",
   "metadata": {},
   "source": [
    "# Prediction and Checking performance"
   ]
  },
  {
   "cell_type": "code",
   "execution_count": 194,
   "id": "1f3b767f-1156-48af-969f-5580f3033327",
   "metadata": {
    "scrolled": true,
    "tags": []
   },
   "outputs": [
    {
     "name": "stdout",
     "output_type": "stream",
     "text": [
      "Epoch 1/60\n",
      "39/39 [==============================] - 22s 310ms/step - loss: 0.0223 - val_loss: 6.2357e-04\n",
      "Epoch 2/60\n",
      "39/39 [==============================] - 10s 254ms/step - loss: 0.0022 - val_loss: 5.7172e-04\n",
      "Epoch 3/60\n",
      "39/39 [==============================] - 15s 385ms/step - loss: 0.0020 - val_loss: 7.1689e-04\n",
      "Epoch 4/60\n",
      "39/39 [==============================] - 9s 237ms/step - loss: 0.0018 - val_loss: 7.5942e-04\n",
      "Epoch 5/60\n",
      "39/39 [==============================] - 9s 228ms/step - loss: 0.0017 - val_loss: 8.5362e-04\n",
      "Epoch 6/60\n",
      "39/39 [==============================] - 9s 227ms/step - loss: 0.0017 - val_loss: 8.3710e-04\n",
      "Epoch 7/60\n",
      "39/39 [==============================] - 11s 289ms/step - loss: 0.0014 - val_loss: 4.8476e-04\n",
      "Epoch 8/60\n",
      "39/39 [==============================] - 11s 289ms/step - loss: 0.0013 - val_loss: 3.4529e-04\n",
      "Epoch 9/60\n",
      "39/39 [==============================] - 10s 243ms/step - loss: 0.0012 - val_loss: 3.3181e-04\n",
      "Epoch 10/60\n",
      "39/39 [==============================] - 10s 249ms/step - loss: 0.0011 - val_loss: 3.5297e-04\n",
      "Epoch 11/60\n",
      "39/39 [==============================] - 12s 314ms/step - loss: 0.0010 - val_loss: 3.8966e-04\n",
      "Epoch 12/60\n",
      "39/39 [==============================] - 13s 329ms/step - loss: 0.0010 - val_loss: 4.7485e-04\n",
      "Epoch 13/60\n",
      "39/39 [==============================] - 13s 325ms/step - loss: 9.6767e-04 - val_loss: 4.8750e-04\n",
      "Epoch 14/60\n",
      "39/39 [==============================] - 12s 317ms/step - loss: 0.0012 - val_loss: 2.9910e-04\n",
      "Epoch 15/60\n",
      "39/39 [==============================] - 12s 317ms/step - loss: 9.5985e-04 - val_loss: 3.2101e-04\n",
      "Epoch 16/60\n",
      "39/39 [==============================] - 12s 313ms/step - loss: 8.2318e-04 - val_loss: 2.6154e-04\n",
      "Epoch 17/60\n",
      "39/39 [==============================] - 12s 312ms/step - loss: 8.4158e-04 - val_loss: 3.7839e-04\n",
      "Epoch 18/60\n",
      "39/39 [==============================] - 12s 315ms/step - loss: 7.4292e-04 - val_loss: 3.0881e-04\n",
      "Epoch 19/60\n",
      "39/39 [==============================] - 13s 326ms/step - loss: 7.2978e-04 - val_loss: 5.5041e-04\n",
      "Epoch 20/60\n",
      "39/39 [==============================] - 13s 324ms/step - loss: 7.4693e-04 - val_loss: 2.6608e-04\n",
      "Epoch 21/60\n",
      "39/39 [==============================] - 13s 327ms/step - loss: 6.6538e-04 - val_loss: 2.3547e-04\n",
      "Epoch 22/60\n",
      "39/39 [==============================] - 13s 320ms/step - loss: 6.9834e-04 - val_loss: 3.5958e-04\n",
      "Epoch 23/60\n",
      "39/39 [==============================] - 13s 326ms/step - loss: 6.0279e-04 - val_loss: 2.6655e-04\n",
      "Epoch 24/60\n",
      "39/39 [==============================] - 12s 319ms/step - loss: 5.5881e-04 - val_loss: 2.1293e-04\n",
      "Epoch 25/60\n",
      "39/39 [==============================] - 13s 323ms/step - loss: 5.3486e-04 - val_loss: 2.2593e-04\n",
      "Epoch 26/60\n",
      "39/39 [==============================] - 12s 319ms/step - loss: 5.7111e-04 - val_loss: 2.7002e-04\n",
      "Epoch 27/60\n",
      "39/39 [==============================] - 12s 314ms/step - loss: 5.5581e-04 - val_loss: 1.9892e-04\n",
      "Epoch 28/60\n",
      "39/39 [==============================] - 13s 323ms/step - loss: 4.8510e-04 - val_loss: 2.8519e-04\n",
      "Epoch 29/60\n",
      "39/39 [==============================] - 13s 322ms/step - loss: 6.1874e-04 - val_loss: 1.9042e-04\n",
      "Epoch 30/60\n",
      "39/39 [==============================] - 12s 318ms/step - loss: 7.0473e-04 - val_loss: 2.1158e-04\n",
      "Epoch 31/60\n",
      "39/39 [==============================] - 12s 316ms/step - loss: 5.5389e-04 - val_loss: 1.9204e-04\n",
      "Epoch 32/60\n",
      "39/39 [==============================] - 12s 317ms/step - loss: 4.8298e-04 - val_loss: 1.7925e-04\n",
      "Epoch 33/60\n",
      "39/39 [==============================] - 12s 311ms/step - loss: 4.8126e-04 - val_loss: 2.2274e-04\n",
      "Epoch 34/60\n",
      "39/39 [==============================] - 12s 316ms/step - loss: 4.5598e-04 - val_loss: 2.1546e-04\n",
      "Epoch 35/60\n",
      "39/39 [==============================] - 13s 322ms/step - loss: 4.9762e-04 - val_loss: 1.8968e-04\n",
      "Epoch 36/60\n",
      "39/39 [==============================] - 12s 320ms/step - loss: 4.1621e-04 - val_loss: 1.8946e-04\n",
      "Epoch 37/60\n",
      "39/39 [==============================] - 12s 312ms/step - loss: 5.2676e-04 - val_loss: 1.6153e-04\n",
      "Epoch 38/60\n",
      "39/39 [==============================] - 12s 318ms/step - loss: 4.8395e-04 - val_loss: 2.9946e-04\n",
      "Epoch 39/60\n",
      "39/39 [==============================] - 12s 315ms/step - loss: 5.6706e-04 - val_loss: 2.2422e-04\n",
      "Epoch 40/60\n",
      "39/39 [==============================] - 16s 413ms/step - loss: 4.0195e-04 - val_loss: 2.3203e-04\n",
      "Epoch 41/60\n",
      "39/39 [==============================] - 13s 338ms/step - loss: 3.9285e-04 - val_loss: 1.4499e-04\n",
      "Epoch 42/60\n",
      "39/39 [==============================] - 13s 339ms/step - loss: 3.7649e-04 - val_loss: 1.4075e-04\n",
      "Epoch 43/60\n",
      "39/39 [==============================] - 13s 344ms/step - loss: 4.1707e-04 - val_loss: 1.3940e-04\n",
      "Epoch 44/60\n",
      "39/39 [==============================] - 13s 343ms/step - loss: 3.6188e-04 - val_loss: 2.5530e-04\n",
      "Epoch 45/60\n",
      "39/39 [==============================] - 14s 348ms/step - loss: 3.7572e-04 - val_loss: 1.7386e-04\n",
      "Epoch 46/60\n",
      "39/39 [==============================] - 14s 349ms/step - loss: 3.7656e-04 - val_loss: 1.3446e-04\n",
      "Epoch 47/60\n",
      "39/39 [==============================] - 13s 342ms/step - loss: 3.3035e-04 - val_loss: 1.3065e-04\n",
      "Epoch 48/60\n",
      "39/39 [==============================] - 13s 345ms/step - loss: 4.3599e-04 - val_loss: 1.5111e-04\n",
      "Epoch 49/60\n",
      "39/39 [==============================] - 13s 335ms/step - loss: 3.5959e-04 - val_loss: 1.5368e-04\n",
      "Epoch 50/60\n",
      "39/39 [==============================] - 13s 346ms/step - loss: 3.2523e-04 - val_loss: 1.3972e-04\n",
      "Epoch 51/60\n",
      "39/39 [==============================] - 14s 347ms/step - loss: 3.6109e-04 - val_loss: 1.3911e-04\n",
      "Epoch 52/60\n",
      "39/39 [==============================] - 13s 341ms/step - loss: 3.5144e-04 - val_loss: 1.3440e-04\n",
      "Epoch 53/60\n",
      "39/39 [==============================] - 13s 342ms/step - loss: 3.2876e-04 - val_loss: 1.3244e-04\n",
      "Epoch 54/60\n",
      "39/39 [==============================] - 15s 376ms/step - loss: 3.0803e-04 - val_loss: 1.6474e-04\n",
      "Epoch 55/60\n",
      "39/39 [==============================] - 14s 365ms/step - loss: 3.5802e-04 - val_loss: 1.2044e-04\n",
      "Epoch 56/60\n",
      "39/39 [==============================] - 14s 366ms/step - loss: 3.1711e-04 - val_loss: 1.4161e-04\n",
      "Epoch 57/60\n",
      "39/39 [==============================] - 14s 351ms/step - loss: 4.0854e-04 - val_loss: 1.3429e-04\n",
      "Epoch 58/60\n",
      "39/39 [==============================] - 14s 352ms/step - loss: 3.1020e-04 - val_loss: 1.1382e-04\n",
      "Epoch 59/60\n",
      "39/39 [==============================] - 14s 362ms/step - loss: 3.8097e-04 - val_loss: 1.6593e-04\n",
      "Epoch 60/60\n",
      "39/39 [==============================] - 14s 364ms/step - loss: 2.9403e-04 - val_loss: 1.0854e-04\n"
     ]
    },
    {
     "data": {
      "text/plain": [
       "<keras.src.callbacks.History at 0x1803b59f460>"
      ]
     },
     "execution_count": 194,
     "metadata": {},
     "output_type": "execute_result"
    }
   ],
   "source": [
    "model.fit(X_train, y_train, validation_split = 0.1, epochs = 60, batch_size = 64, verbose = 1)"
   ]
  },
  {
   "cell_type": "code",
   "execution_count": 195,
   "id": "19fbf5af-c652-451c-8cf6-f3b694d5f13c",
   "metadata": {},
   "outputs": [
    {
     "name": "stdout",
     "output_type": "stream",
     "text": [
      "86/86 [==============================] - 9s 80ms/step\n",
      "27/27 [==============================] - 2s 78ms/step\n"
     ]
    }
   ],
   "source": [
    "train_predict = model.predict(X_train)\n",
    "test_predict = model.predict(X_test)"
   ]
  },
  {
   "cell_type": "code",
   "execution_count": 196,
   "id": "2ff24f50-99c1-4894-9be7-8e8de2abb12d",
   "metadata": {},
   "outputs": [],
   "source": [
    "train_predict = scaler.inverse_transform(train_predict)\n",
    "test_predict = scaler.inverse_transform(test_predict)"
   ]
  },
  {
   "attachments": {},
   "cell_type": "markdown",
   "id": "b38c9a2a-55c2-475c-a2b3-a50d0ce812de",
   "metadata": {},
   "source": [
    "# Calculating the Performance"
   ]
  },
  {
   "cell_type": "code",
   "execution_count": 197,
   "id": "83ae7fdd-23e2-4139-97de-09ce1d885ca5",
   "metadata": {},
   "outputs": [],
   "source": [
    "import math\n",
    "from sklearn.metrics import confusion_matrix\n",
    "from sklearn.metrics import mean_squared_error"
   ]
  },
  {
   "cell_type": "code",
   "execution_count": 198,
   "id": "74f4bb65-1a2e-4dde-9187-4d42fd81426d",
   "metadata": {},
   "outputs": [
    {
     "data": {
      "text/plain": [
       "54.62012879014956"
      ]
     },
     "execution_count": 198,
     "metadata": {},
     "output_type": "execute_result"
    }
   ],
   "source": [
    "math.sqrt(mean_squared_error(y_train, train_predict))"
   ]
  },
  {
   "cell_type": "code",
   "execution_count": 199,
   "id": "e16847b7-4ad6-4b4c-bd61-df95927c3bf6",
   "metadata": {},
   "outputs": [
    {
     "data": {
      "text/plain": [
       "67.78943825987373"
      ]
     },
     "execution_count": 199,
     "metadata": {},
     "output_type": "execute_result"
    }
   ],
   "source": [
    "math.sqrt(mean_squared_error(y_test, test_predict))"
   ]
  },
  {
   "attachments": {},
   "cell_type": "markdown",
   "id": "70d1b861-39f2-4a69-9a1c-18cf429649ee",
   "metadata": {},
   "source": [
    "**Plotting the graph with predicted train data, test data with actual data**"
   ]
  },
  {
   "cell_type": "code",
   "execution_count": 200,
   "id": "cb4b24d3-cd97-48ad-ba7e-b7e19c43bfb4",
   "metadata": {},
   "outputs": [
    {
     "data": {
      "image/png": "[encoded data removed]",
      "text/plain": [
       "<Figure size 800x500 with 1 Axes>"
      ]
     },
     "metadata": {},
     "output_type": "display_data"
    }
   ],
   "source": [
    "look_back = 100\n",
    "\n",
    "#shift train predictions for plotting \n",
    "trainPredictPlot = np.empty_like(close_srt)\n",
    "trainPredictPlot[:, :] = np.nan\n",
    "trainPredictPlot[look_back:len(train_predict)+look_back, :] = train_predict\n",
    "#shift test predictions for plotting \n",
    "testPredictPlot = np.empty_like(close_srt)\n",
    "testPredictPlot[:, :] = np.nan\n",
    "testPredictPlot[len(train_predict)+(look_back*2)+1:len(close_srt)-1, :] = test_predict\n",
    "#plot baseline ans predictions\n",
    "plt.subplots(figsize=(8, 5))\n",
    "plt.plot(scaler.inverse_transform(close_srt), label='Actual close price')\n",
    "plt.plot(trainPredictPlot, label ='Predicted close price on train_data')\n",
    "plt.plot(testPredictPlot, label = 'Predicted close price on test_data')\n",
    "plt.xlabel('No. of days', size = 10)\n",
    "plt.ylabel('Close', size = 10)\n",
    "plt.title('Actual & Predicted Close Price', size = 15)\n",
    "plt.legend()\n",
    "plt.show()"
   ]
  },
  {
   "cell_type": "code",
   "execution_count": 201,
   "id": "c0193493-c5a4-4c78-b3ec-0c6e40a66e13",
   "metadata": {},
   "outputs": [
    {
     "data": {
      "text/plain": [
       "942"
      ]
     },
     "execution_count": 201,
     "metadata": {},
     "output_type": "execute_result"
    }
   ],
   "source": [
    "len(test_data)"
   ]
  },
  {
   "cell_type": "code",
   "execution_count": 203,
   "id": "74301370-dee7-4ad6-9eed-a6d33a85d213",
   "metadata": {},
   "outputs": [
    {
     "data": {
      "text/plain": [
       "(1, 100)"
      ]
     },
     "execution_count": 203,
     "metadata": {},
     "output_type": "execute_result"
    }
   ],
   "source": [
    "pred_input = test_data[842:].reshape(1, -1)\n",
    "pred_input.shape"
   ]
  },
  {
   "cell_type": "code",
   "execution_count": 204,
   "id": "4e8c9c1c-0b0f-4e78-b235-9724677361d4",
   "metadata": {},
   "outputs": [],
   "source": [
    "temp_input = list(pred_input)\n",
    "temp_input = temp_input[0].tolist()"
   ]
  },
  {
   "cell_type": "code",
   "execution_count": 205,
   "id": "33978931-0fd1-441d-80c4-6647fcb33269",
   "metadata": {
    "scrolled": true,
    "tags": []
   },
   "outputs": [
    {
     "data": {
      "text/plain": [
       "[0.7333568987863792,\n",
       " 0.7213385177330035,\n",
       " 0.7211028632025452,\n",
       " 0.7039000824790858,\n",
       " 0.6997761281960647,\n",
       " 0.7043713915400025,\n",
       " 0.6863438199599389,\n",
       " 0.6587722398963121,\n",
       " 0.6712619300106045,\n",
       " 0.6818663838812301,\n",
       " 0.6819842111464594,\n",
       " 0.6862259926947096,\n",
       " 0.6779780841286674,\n",
       " 0.6839872746553554,\n",
       " 0.6663131848709792,\n",
       " 0.6822198656769176,\n",
       " 0.6932956286084602,\n",
       " 0.6981265464828562,\n",
       " 0.7123836455755862,\n",
       " 0.7155649817367741,\n",
       " 0.7160362907976907,\n",
       " 0.7119123365146697,\n",
       " 0.7079062094968777,\n",
       " 0.7166254271238365,\n",
       " 0.6944739012607518,\n",
       " 0.6987156828090021,\n",
       " 0.693884764934606,\n",
       " 0.6994226464003772,\n",
       " 0.6795098385766468,\n",
       " 0.6864616472251679,\n",
       " 0.6719688936019796,\n",
       " 0.6848120655119595,\n",
       " 0.700011782726523,\n",
       " 0.700011782726523,\n",
       " 0.700011782726523,\n",
       " 0.7265229174030872,\n",
       " 0.7248733356898788,\n",
       " 0.7319429716036291,\n",
       " 0.7216919995286911,\n",
       " 0.7245198538941912,\n",
       " 0.7406621892305881,\n",
       " 0.7479674796747969,\n",
       " 0.7479674796747969,\n",
       " 0.754801461058089,\n",
       " 0.7226346176505244,\n",
       " 0.7100271002710027,\n",
       " 0.7221633085896076,\n",
       " 0.7357134440909627,\n",
       " 0.7361847531518795,\n",
       " 0.7487922705314011,\n",
       " 0.7486744432661718,\n",
       " 0.7510309885707553,\n",
       " 0.7449039707788383,\n",
       " 0.7350064804995877,\n",
       " 0.7403087074349005,\n",
       " 0.7361847531518795,\n",
       " 0.7425474254742548,\n",
       " 0.7429009072699424,\n",
       " 0.7438435253917758,\n",
       " 0.7519736066925887,\n",
       " 0.7598680334629434,\n",
       " 0.7642276422764229,\n",
       " 0.7632850241545895,\n",
       " 0.7602215152586309,\n",
       " 0.7605749970543185,\n",
       " 0.7648167786025687,\n",
       " 0.7675268057028398,\n",
       " 0.7715329327206318,\n",
       " 0.776599505125486,\n",
       " 0.7794273594909863,\n",
       " 0.7767173323907154,\n",
       " 0.7748320961470484,\n",
       " 0.780605632143278,\n",
       " 0.772357723577236,\n",
       " 0.7684694238246731,\n",
       " 0.7795451867562154,\n",
       " 0.7784847413691528,\n",
       " 0.7903852951572995,\n",
       " 0.7942735949098622,\n",
       " 0.7874396135265701,\n",
       " 0.7843761046306116,\n",
       " 0.7784847413691528,\n",
       " 0.7664663603157772,\n",
       " 0.7622245787675269,\n",
       " 0.7668198421114648,\n",
       " 0.7707081418640275,\n",
       " 0.7763638505950278,\n",
       " 0.7916813950748204,\n",
       " 0.7906209496877578,\n",
       " 0.7790738776952987,\n",
       " 0.7628137150936728,\n",
       " 0.772357723577236,\n",
       " 0.7478496524095677,\n",
       " 0.7470248615529634,\n",
       " 0.7593967244020268,\n",
       " 0.7497348886532345,\n",
       " 0.7654059149287146,\n",
       " 0.7503240249793802,\n",
       " 0.7470248615529634,\n",
       " 0.7302933898904208]"
      ]
     },
     "execution_count": 205,
     "metadata": {},
     "output_type": "execute_result"
    }
   ],
   "source": [
    "temp_input"
   ]
  },
  {
   "cell_type": "code",
   "execution_count": 206,
   "id": "939cbbf5-0682-4bf8-87fd-0d473ec66618",
   "metadata": {
    "scrolled": true,
    "tags": []
   },
   "outputs": [
    {
     "name": "stdout",
     "output_type": "stream",
     "text": [
      "[0.73512614]\n",
      "101\n",
      "1 day input [0.72133852 0.72110286 0.70390008 0.69977613 0.70437139 0.68634382\n",
      " 0.65877224 0.67126193 0.68186638 0.68198421 0.68622599 0.67797808\n",
      " 0.68398727 0.66631318 0.68221987 0.69329563 0.69812655 0.71238365\n",
      " 0.71556498 0.71603629 0.71191234 0.70790621 0.71662543 0.6944739\n",
      " 0.69871568 0.69388476 0.69942265 0.67950984 0.68646165 0.67196889\n",
      " 0.68481207 0.70001178 0.70001178 0.70001178 0.72652292 0.72487334\n",
      " 0.73194297 0.721692   0.72451985 0.74066219 0.74796748 0.74796748\n",
      " 0.75480146 0.72263462 0.7100271  0.72216331 0.73571344 0.73618475\n",
      " 0.74879227 0.74867444 0.75103099 0.74490397 0.73500648 0.74030871\n",
      " 0.73618475 0.74254743 0.74290091 0.74384353 0.75197361 0.75986803\n",
      " 0.76422764 0.76328502 0.76022152 0.760575   0.76481678 0.76752681\n",
      " 0.77153293 0.77659951 0.77942736 0.77671733 0.7748321  0.78060563\n",
      " 0.77235772 0.76846942 0.77954519 0.77848474 0.7903853  0.79427359\n",
      " 0.78743961 0.7843761  0.77848474 0.76646636 0.76222458 0.76681984\n",
      " 0.77070814 0.77636385 0.7916814  0.79062095 0.77907388 0.76281372\n",
      " 0.77235772 0.74784965 0.74702486 0.75939672 0.74973489 0.76540591\n",
      " 0.75032402 0.74702486 0.73029339 0.73512614]\n",
      "1 day output [[0.73711634]]\n",
      "2 day input [0.72110286 0.70390008 0.69977613 0.70437139 0.68634382 0.65877224\n",
      " 0.67126193 0.68186638 0.68198421 0.68622599 0.67797808 0.68398727\n",
      " 0.66631318 0.68221987 0.69329563 0.69812655 0.71238365 0.71556498\n",
      " 0.71603629 0.71191234 0.70790621 0.71662543 0.6944739  0.69871568\n",
      " 0.69388476 0.69942265 0.67950984 0.68646165 0.67196889 0.68481207\n",
      " 0.70001178 0.70001178 0.70001178 0.72652292 0.72487334 0.73194297\n",
      " 0.721692   0.72451985 0.74066219 0.74796748 0.74796748 0.75480146\n",
      " 0.72263462 0.7100271  0.72216331 0.73571344 0.73618475 0.74879227\n",
      " 0.74867444 0.75103099 0.74490397 0.73500648 0.74030871 0.73618475\n",
      " 0.74254743 0.74290091 0.74384353 0.75197361 0.75986803 0.76422764\n",
      " 0.76328502 0.76022152 0.760575   0.76481678 0.76752681 0.77153293\n",
      " 0.77659951 0.77942736 0.77671733 0.7748321  0.78060563 0.77235772\n",
      " 0.76846942 0.77954519 0.77848474 0.7903853  0.79427359 0.78743961\n",
      " 0.7843761  0.77848474 0.76646636 0.76222458 0.76681984 0.77070814\n",
      " 0.77636385 0.7916814  0.79062095 0.77907388 0.76281372 0.77235772\n",
      " 0.74784965 0.74702486 0.75939672 0.74973489 0.76540591 0.75032402\n",
      " 0.74702486 0.73029339 0.73512614 0.73711634]\n",
      "2 day output [[0.74249023]]\n",
      "3 day input [0.70390008 0.69977613 0.70437139 0.68634382 0.65877224 0.67126193\n",
      " 0.68186638 0.68198421 0.68622599 0.67797808 0.68398727 0.66631318\n",
      " 0.68221987 0.69329563 0.69812655 0.71238365 0.71556498 0.71603629\n",
      " 0.71191234 0.70790621 0.71662543 0.6944739  0.69871568 0.69388476\n",
      " 0.69942265 0.67950984 0.68646165 0.67196889 0.68481207 0.70001178\n",
      " 0.70001178 0.70001178 0.72652292 0.72487334 0.73194297 0.721692\n",
      " 0.72451985 0.74066219 0.74796748 0.74796748 0.75480146 0.72263462\n",
      " 0.7100271  0.72216331 0.73571344 0.73618475 0.74879227 0.74867444\n",
      " 0.75103099 0.74490397 0.73500648 0.74030871 0.73618475 0.74254743\n",
      " 0.74290091 0.74384353 0.75197361 0.75986803 0.76422764 0.76328502\n",
      " 0.76022152 0.760575   0.76481678 0.76752681 0.77153293 0.77659951\n",
      " 0.77942736 0.77671733 0.7748321  0.78060563 0.77235772 0.76846942\n",
      " 0.77954519 0.77848474 0.7903853  0.79427359 0.78743961 0.7843761\n",
      " 0.77848474 0.76646636 0.76222458 0.76681984 0.77070814 0.77636385\n",
      " 0.7916814  0.79062095 0.77907388 0.76281372 0.77235772 0.74784965\n",
      " 0.74702486 0.75939672 0.74973489 0.76540591 0.75032402 0.74702486\n",
      " 0.73029339 0.73512614 0.73711634 0.74249023]\n",
      "3 day output [[0.7473213]]\n",
      "4 day input [0.69977613 0.70437139 0.68634382 0.65877224 0.67126193 0.68186638\n",
      " 0.68198421 0.68622599 0.67797808 0.68398727 0.66631318 0.68221987\n",
      " 0.69329563 0.69812655 0.71238365 0.71556498 0.71603629 0.71191234\n",
      " 0.70790621 0.71662543 0.6944739  0.69871568 0.69388476 0.69942265\n",
      " 0.67950984 0.68646165 0.67196889 0.68481207 0.70001178 0.70001178\n",
      " 0.70001178 0.72652292 0.72487334 0.73194297 0.721692   0.72451985\n",
      " 0.74066219 0.74796748 0.74796748 0.75480146 0.72263462 0.7100271\n",
      " 0.72216331 0.73571344 0.73618475 0.74879227 0.74867444 0.75103099\n",
      " 0.74490397 0.73500648 0.74030871 0.73618475 0.74254743 0.74290091\n",
      " 0.74384353 0.75197361 0.75986803 0.76422764 0.76328502 0.76022152\n",
      " 0.760575   0.76481678 0.76752681 0.77153293 0.77659951 0.77942736\n",
      " 0.77671733 0.7748321  0.78060563 0.77235772 0.76846942 0.77954519\n",
      " 0.77848474 0.7903853  0.79427359 0.78743961 0.7843761  0.77848474\n",
      " 0.76646636 0.76222458 0.76681984 0.77070814 0.77636385 0.7916814\n",
      " 0.79062095 0.77907388 0.76281372 0.77235772 0.74784965 0.74702486\n",
      " 0.75939672 0.74973489 0.76540591 0.75032402 0.74702486 0.73029339\n",
      " 0.73512614 0.73711634 0.74249023 0.74732131]\n",
      "4 day output [[0.7516716]]\n",
      "5 day input [0.70437139 0.68634382 0.65877224 0.67126193 0.68186638 0.68198421\n",
      " 0.68622599 0.67797808 0.68398727 0.66631318 0.68221987 0.69329563\n",
      " 0.69812655 0.71238365 0.71556498 0.71603629 0.71191234 0.70790621\n",
      " 0.71662543 0.6944739  0.69871568 0.69388476 0.69942265 0.67950984\n",
      " 0.68646165 0.67196889 0.68481207 0.70001178 0.70001178 0.70001178\n",
      " 0.72652292 0.72487334 0.73194297 0.721692   0.72451985 0.74066219\n",
      " 0.74796748 0.74796748 0.75480146 0.72263462 0.7100271  0.72216331\n",
      " 0.73571344 0.73618475 0.74879227 0.74867444 0.75103099 0.74490397\n",
      " 0.73500648 0.74030871 0.73618475 0.74254743 0.74290091 0.74384353\n",
      " 0.75197361 0.75986803 0.76422764 0.76328502 0.76022152 0.760575\n",
      " 0.76481678 0.76752681 0.77153293 0.77659951 0.77942736 0.77671733\n",
      " 0.7748321  0.78060563 0.77235772 0.76846942 0.77954519 0.77848474\n",
      " 0.7903853  0.79427359 0.78743961 0.7843761  0.77848474 0.76646636\n",
      " 0.76222458 0.76681984 0.77070814 0.77636385 0.7916814  0.79062095\n",
      " 0.77907388 0.76281372 0.77235772 0.74784965 0.74702486 0.75939672\n",
      " 0.74973489 0.76540591 0.75032402 0.74702486 0.73029339 0.73512614\n",
      " 0.73711634 0.74249023 0.74732131 0.75167161]\n",
      "5 day output [[0.75607127]]\n",
      "6 day input [0.68634382 0.65877224 0.67126193 0.68186638 0.68198421 0.68622599\n",
      " 0.67797808 0.68398727 0.66631318 0.68221987 0.69329563 0.69812655\n",
      " 0.71238365 0.71556498 0.71603629 0.71191234 0.70790621 0.71662543\n",
      " 0.6944739  0.69871568 0.69388476 0.69942265 0.67950984 0.68646165\n",
      " 0.67196889 0.68481207 0.70001178 0.70001178 0.70001178 0.72652292\n",
      " 0.72487334 0.73194297 0.721692   0.72451985 0.74066219 0.74796748\n",
      " 0.74796748 0.75480146 0.72263462 0.7100271  0.72216331 0.73571344\n",
      " 0.73618475 0.74879227 0.74867444 0.75103099 0.74490397 0.73500648\n",
      " 0.74030871 0.73618475 0.74254743 0.74290091 0.74384353 0.75197361\n",
      " 0.75986803 0.76422764 0.76328502 0.76022152 0.760575   0.76481678\n",
      " 0.76752681 0.77153293 0.77659951 0.77942736 0.77671733 0.7748321\n",
      " 0.78060563 0.77235772 0.76846942 0.77954519 0.77848474 0.7903853\n",
      " 0.79427359 0.78743961 0.7843761  0.77848474 0.76646636 0.76222458\n",
      " 0.76681984 0.77070814 0.77636385 0.7916814  0.79062095 0.77907388\n",
      " 0.76281372 0.77235772 0.74784965 0.74702486 0.75939672 0.74973489\n",
      " 0.76540591 0.75032402 0.74702486 0.73029339 0.73512614 0.73711634\n",
      " 0.74249023 0.74732131 0.75167161 0.75607127]\n",
      "6 day output [[0.76084113]]\n",
      "7 day input [0.65877224 0.67126193 0.68186638 0.68198421 0.68622599 0.67797808\n",
      " 0.68398727 0.66631318 0.68221987 0.69329563 0.69812655 0.71238365\n",
      " 0.71556498 0.71603629 0.71191234 0.70790621 0.71662543 0.6944739\n",
      " 0.69871568 0.69388476 0.69942265 0.67950984 0.68646165 0.67196889\n",
      " 0.68481207 0.70001178 0.70001178 0.70001178 0.72652292 0.72487334\n",
      " 0.73194297 0.721692   0.72451985 0.74066219 0.74796748 0.74796748\n",
      " 0.75480146 0.72263462 0.7100271  0.72216331 0.73571344 0.73618475\n",
      " 0.74879227 0.74867444 0.75103099 0.74490397 0.73500648 0.74030871\n",
      " 0.73618475 0.74254743 0.74290091 0.74384353 0.75197361 0.75986803\n",
      " 0.76422764 0.76328502 0.76022152 0.760575   0.76481678 0.76752681\n",
      " 0.77153293 0.77659951 0.77942736 0.77671733 0.7748321  0.78060563\n",
      " 0.77235772 0.76846942 0.77954519 0.77848474 0.7903853  0.79427359\n",
      " 0.78743961 0.7843761  0.77848474 0.76646636 0.76222458 0.76681984\n",
      " 0.77070814 0.77636385 0.7916814  0.79062095 0.77907388 0.76281372\n",
      " 0.77235772 0.74784965 0.74702486 0.75939672 0.74973489 0.76540591\n",
      " 0.75032402 0.74702486 0.73029339 0.73512614 0.73711634 0.74249023\n",
      " 0.74732131 0.75167161 0.75607127 0.76084113]\n",
      "7 day output [[0.7661243]]\n",
      "8 day input [0.67126193 0.68186638 0.68198421 0.68622599 0.67797808 0.68398727\n",
      " 0.66631318 0.68221987 0.69329563 0.69812655 0.71238365 0.71556498\n",
      " 0.71603629 0.71191234 0.70790621 0.71662543 0.6944739  0.69871568\n",
      " 0.69388476 0.69942265 0.67950984 0.68646165 0.67196889 0.68481207\n",
      " 0.70001178 0.70001178 0.70001178 0.72652292 0.72487334 0.73194297\n",
      " 0.721692   0.72451985 0.74066219 0.74796748 0.74796748 0.75480146\n",
      " 0.72263462 0.7100271  0.72216331 0.73571344 0.73618475 0.74879227\n",
      " 0.74867444 0.75103099 0.74490397 0.73500648 0.74030871 0.73618475\n",
      " 0.74254743 0.74290091 0.74384353 0.75197361 0.75986803 0.76422764\n",
      " 0.76328502 0.76022152 0.760575   0.76481678 0.76752681 0.77153293\n",
      " 0.77659951 0.77942736 0.77671733 0.7748321  0.78060563 0.77235772\n",
      " 0.76846942 0.77954519 0.77848474 0.7903853  0.79427359 0.78743961\n",
      " 0.7843761  0.77848474 0.76646636 0.76222458 0.76681984 0.77070814\n",
      " 0.77636385 0.7916814  0.79062095 0.77907388 0.76281372 0.77235772\n",
      " 0.74784965 0.74702486 0.75939672 0.74973489 0.76540591 0.75032402\n",
      " 0.74702486 0.73029339 0.73512614 0.73711634 0.74249023 0.74732131\n",
      " 0.75167161 0.75607127 0.76084113 0.76612431]\n",
      "8 day output [[0.77195466]]\n",
      "9 day input [0.68186638 0.68198421 0.68622599 0.67797808 0.68398727 0.66631318\n",
      " 0.68221987 0.69329563 0.69812655 0.71238365 0.71556498 0.71603629\n",
      " 0.71191234 0.70790621 0.71662543 0.6944739  0.69871568 0.69388476\n",
      " 0.69942265 0.67950984 0.68646165 0.67196889 0.68481207 0.70001178\n",
      " 0.70001178 0.70001178 0.72652292 0.72487334 0.73194297 0.721692\n",
      " 0.72451985 0.74066219 0.74796748 0.74796748 0.75480146 0.72263462\n",
      " 0.7100271  0.72216331 0.73571344 0.73618475 0.74879227 0.74867444\n",
      " 0.75103099 0.74490397 0.73500648 0.74030871 0.73618475 0.74254743\n",
      " 0.74290091 0.74384353 0.75197361 0.75986803 0.76422764 0.76328502\n",
      " 0.76022152 0.760575   0.76481678 0.76752681 0.77153293 0.77659951\n",
      " 0.77942736 0.77671733 0.7748321  0.78060563 0.77235772 0.76846942\n",
      " 0.77954519 0.77848474 0.7903853  0.79427359 0.78743961 0.7843761\n",
      " 0.77848474 0.76646636 0.76222458 0.76681984 0.77070814 0.77636385\n",
      " 0.7916814  0.79062095 0.77907388 0.76281372 0.77235772 0.74784965\n",
      " 0.74702486 0.75939672 0.74973489 0.76540591 0.75032402 0.74702486\n",
      " 0.73029339 0.73512614 0.73711634 0.74249023 0.74732131 0.75167161\n",
      " 0.75607127 0.76084113 0.76612431 0.77195466]\n",
      "9 day output [[0.77830464]]\n",
      "10 day input [0.68198421 0.68622599 0.67797808 0.68398727 0.66631318 0.68221987\n",
      " 0.69329563 0.69812655 0.71238365 0.71556498 0.71603629 0.71191234\n",
      " 0.70790621 0.71662543 0.6944739  0.69871568 0.69388476 0.69942265\n",
      " 0.67950984 0.68646165 0.67196889 0.68481207 0.70001178 0.70001178\n",
      " 0.70001178 0.72652292 0.72487334 0.73194297 0.721692   0.72451985\n",
      " 0.74066219 0.74796748 0.74796748 0.75480146 0.72263462 0.7100271\n",
      " 0.72216331 0.73571344 0.73618475 0.74879227 0.74867444 0.75103099\n",
      " 0.74490397 0.73500648 0.74030871 0.73618475 0.74254743 0.74290091\n",
      " 0.74384353 0.75197361 0.75986803 0.76422764 0.76328502 0.76022152\n",
      " 0.760575   0.76481678 0.76752681 0.77153293 0.77659951 0.77942736\n",
      " 0.77671733 0.7748321  0.78060563 0.77235772 0.76846942 0.77954519\n",
      " 0.77848474 0.7903853  0.79427359 0.78743961 0.7843761  0.77848474\n",
      " 0.76646636 0.76222458 0.76681984 0.77070814 0.77636385 0.7916814\n",
      " 0.79062095 0.77907388 0.76281372 0.77235772 0.74784965 0.74702486\n",
      " 0.75939672 0.74973489 0.76540591 0.75032402 0.74702486 0.73029339\n",
      " 0.73512614 0.73711634 0.74249023 0.74732131 0.75167161 0.75607127\n",
      " 0.76084113 0.76612431 0.77195466 0.77830464]\n",
      "10 day output [[0.7851133]]\n",
      "11 day input [0.68622599 0.67797808 0.68398727 0.66631318 0.68221987 0.69329563\n",
      " 0.69812655 0.71238365 0.71556498 0.71603629 0.71191234 0.70790621\n",
      " 0.71662543 0.6944739  0.69871568 0.69388476 0.69942265 0.67950984\n",
      " 0.68646165 0.67196889 0.68481207 0.70001178 0.70001178 0.70001178\n",
      " 0.72652292 0.72487334 0.73194297 0.721692   0.72451985 0.74066219\n",
      " 0.74796748 0.74796748 0.75480146 0.72263462 0.7100271  0.72216331\n",
      " 0.73571344 0.73618475 0.74879227 0.74867444 0.75103099 0.74490397\n",
      " 0.73500648 0.74030871 0.73618475 0.74254743 0.74290091 0.74384353\n",
      " 0.75197361 0.75986803 0.76422764 0.76328502 0.76022152 0.760575\n",
      " 0.76481678 0.76752681 0.77153293 0.77659951 0.77942736 0.77671733\n",
      " 0.7748321  0.78060563 0.77235772 0.76846942 0.77954519 0.77848474\n",
      " 0.7903853  0.79427359 0.78743961 0.7843761  0.77848474 0.76646636\n",
      " 0.76222458 0.76681984 0.77070814 0.77636385 0.7916814  0.79062095\n",
      " 0.77907388 0.76281372 0.77235772 0.74784965 0.74702486 0.75939672\n",
      " 0.74973489 0.76540591 0.75032402 0.74702486 0.73029339 0.73512614\n",
      " 0.73711634 0.74249023 0.74732131 0.75167161 0.75607127 0.76084113\n",
      " 0.76612431 0.77195466 0.77830464 0.78511328]\n",
      "11 day output [[0.79230803]]\n",
      "12 day input [0.67797808 0.68398727 0.66631318 0.68221987 0.69329563 0.69812655\n",
      " 0.71238365 0.71556498 0.71603629 0.71191234 0.70790621 0.71662543\n",
      " 0.6944739  0.69871568 0.69388476 0.69942265 0.67950984 0.68646165\n",
      " 0.67196889 0.68481207 0.70001178 0.70001178 0.70001178 0.72652292\n",
      " 0.72487334 0.73194297 0.721692   0.72451985 0.74066219 0.74796748\n",
      " 0.74796748 0.75480146 0.72263462 0.7100271  0.72216331 0.73571344\n",
      " 0.73618475 0.74879227 0.74867444 0.75103099 0.74490397 0.73500648\n",
      " 0.74030871 0.73618475 0.74254743 0.74290091 0.74384353 0.75197361\n",
      " 0.75986803 0.76422764 0.76328502 0.76022152 0.760575   0.76481678\n",
      " 0.76752681 0.77153293 0.77659951 0.77942736 0.77671733 0.7748321\n",
      " 0.78060563 0.77235772 0.76846942 0.77954519 0.77848474 0.7903853\n",
      " 0.79427359 0.78743961 0.7843761  0.77848474 0.76646636 0.76222458\n",
      " 0.76681984 0.77070814 0.77636385 0.7916814  0.79062095 0.77907388\n",
      " 0.76281372 0.77235772 0.74784965 0.74702486 0.75939672 0.74973489\n",
      " 0.76540591 0.75032402 0.74702486 0.73029339 0.73512614 0.73711634\n",
      " 0.74249023 0.74732131 0.75167161 0.75607127 0.76084113 0.76612431\n",
      " 0.77195466 0.77830464 0.78511328 0.79230803]\n",
      "12 day output [[0.79981947]]\n",
      "13 day input [0.68398727 0.66631318 0.68221987 0.69329563 0.69812655 0.71238365\n",
      " 0.71556498 0.71603629 0.71191234 0.70790621 0.71662543 0.6944739\n",
      " 0.69871568 0.69388476 0.69942265 0.67950984 0.68646165 0.67196889\n",
      " 0.68481207 0.70001178 0.70001178 0.70001178 0.72652292 0.72487334\n",
      " 0.73194297 0.721692   0.72451985 0.74066219 0.74796748 0.74796748\n",
      " 0.75480146 0.72263462 0.7100271  0.72216331 0.73571344 0.73618475\n",
      " 0.74879227 0.74867444 0.75103099 0.74490397 0.73500648 0.74030871\n",
      " 0.73618475 0.74254743 0.74290091 0.74384353 0.75197361 0.75986803\n",
      " 0.76422764 0.76328502 0.76022152 0.760575   0.76481678 0.76752681\n",
      " 0.77153293 0.77659951 0.77942736 0.77671733 0.7748321  0.78060563\n",
      " 0.77235772 0.76846942 0.77954519 0.77848474 0.7903853  0.79427359\n",
      " 0.78743961 0.7843761  0.77848474 0.76646636 0.76222458 0.76681984\n",
      " 0.77070814 0.77636385 0.7916814  0.79062095 0.77907388 0.76281372\n",
      " 0.77235772 0.74784965 0.74702486 0.75939672 0.74973489 0.76540591\n",
      " 0.75032402 0.74702486 0.73029339 0.73512614 0.73711634 0.74249023\n",
      " 0.74732131 0.75167161 0.75607127 0.76084113 0.76612431 0.77195466\n",
      " 0.77830464 0.78511328 0.79230803 0.79981947]\n",
      "13 day output [[0.80758566]]\n",
      "14 day input [0.66631318 0.68221987 0.69329563 0.69812655 0.71238365 0.71556498\n",
      " 0.71603629 0.71191234 0.70790621 0.71662543 0.6944739  0.69871568\n",
      " 0.69388476 0.69942265 0.67950984 0.68646165 0.67196889 0.68481207\n",
      " 0.70001178 0.70001178 0.70001178 0.72652292 0.72487334 0.73194297\n",
      " 0.721692   0.72451985 0.74066219 0.74796748 0.74796748 0.75480146\n",
      " 0.72263462 0.7100271  0.72216331 0.73571344 0.73618475 0.74879227\n",
      " 0.74867444 0.75103099 0.74490397 0.73500648 0.74030871 0.73618475\n",
      " 0.74254743 0.74290091 0.74384353 0.75197361 0.75986803 0.76422764\n",
      " 0.76328502 0.76022152 0.760575   0.76481678 0.76752681 0.77153293\n",
      " 0.77659951 0.77942736 0.77671733 0.7748321  0.78060563 0.77235772\n",
      " 0.76846942 0.77954519 0.77848474 0.7903853  0.79427359 0.78743961\n",
      " 0.7843761  0.77848474 0.76646636 0.76222458 0.76681984 0.77070814\n",
      " 0.77636385 0.7916814  0.79062095 0.77907388 0.76281372 0.77235772\n",
      " 0.74784965 0.74702486 0.75939672 0.74973489 0.76540591 0.75032402\n",
      " 0.74702486 0.73029339 0.73512614 0.73711634 0.74249023 0.74732131\n",
      " 0.75167161 0.75607127 0.76084113 0.76612431 0.77195466 0.77830464\n",
      " 0.78511328 0.79230803 0.79981947 0.80758566]\n",
      "14 day output [[0.81555635]]\n",
      "15 day input [0.68221987 0.69329563 0.69812655 0.71238365 0.71556498 0.71603629\n",
      " 0.71191234 0.70790621 0.71662543 0.6944739  0.69871568 0.69388476\n",
      " 0.69942265 0.67950984 0.68646165 0.67196889 0.68481207 0.70001178\n",
      " 0.70001178 0.70001178 0.72652292 0.72487334 0.73194297 0.721692\n",
      " 0.72451985 0.74066219 0.74796748 0.74796748 0.75480146 0.72263462\n",
      " 0.7100271  0.72216331 0.73571344 0.73618475 0.74879227 0.74867444\n",
      " 0.75103099 0.74490397 0.73500648 0.74030871 0.73618475 0.74254743\n",
      " 0.74290091 0.74384353 0.75197361 0.75986803 0.76422764 0.76328502\n",
      " 0.76022152 0.760575   0.76481678 0.76752681 0.77153293 0.77659951\n",
      " 0.77942736 0.77671733 0.7748321  0.78060563 0.77235772 0.76846942\n",
      " 0.77954519 0.77848474 0.7903853  0.79427359 0.78743961 0.7843761\n",
      " 0.77848474 0.76646636 0.76222458 0.76681984 0.77070814 0.77636385\n",
      " 0.7916814  0.79062095 0.77907388 0.76281372 0.77235772 0.74784965\n",
      " 0.74702486 0.75939672 0.74973489 0.76540591 0.75032402 0.74702486\n",
      " 0.73029339 0.73512614 0.73711634 0.74249023 0.74732131 0.75167161\n",
      " 0.75607127 0.76084113 0.76612431 0.77195466 0.77830464 0.78511328\n",
      " 0.79230803 0.79981947 0.80758566 0.81555635]\n",
      "15 day output [[0.8236911]]\n",
      "16 day input [0.69329563 0.69812655 0.71238365 0.71556498 0.71603629 0.71191234\n",
      " 0.70790621 0.71662543 0.6944739  0.69871568 0.69388476 0.69942265\n",
      " 0.67950984 0.68646165 0.67196889 0.68481207 0.70001178 0.70001178\n",
      " 0.70001178 0.72652292 0.72487334 0.73194297 0.721692   0.72451985\n",
      " 0.74066219 0.74796748 0.74796748 0.75480146 0.72263462 0.7100271\n",
      " 0.72216331 0.73571344 0.73618475 0.74879227 0.74867444 0.75103099\n",
      " 0.74490397 0.73500648 0.74030871 0.73618475 0.74254743 0.74290091\n",
      " 0.74384353 0.75197361 0.75986803 0.76422764 0.76328502 0.76022152\n",
      " 0.760575   0.76481678 0.76752681 0.77153293 0.77659951 0.77942736\n",
      " 0.77671733 0.7748321  0.78060563 0.77235772 0.76846942 0.77954519\n",
      " 0.77848474 0.7903853  0.79427359 0.78743961 0.7843761  0.77848474\n",
      " 0.76646636 0.76222458 0.76681984 0.77070814 0.77636385 0.7916814\n",
      " 0.79062095 0.77907388 0.76281372 0.77235772 0.74784965 0.74702486\n",
      " 0.75939672 0.74973489 0.76540591 0.75032402 0.74702486 0.73029339\n",
      " 0.73512614 0.73711634 0.74249023 0.74732131 0.75167161 0.75607127\n",
      " 0.76084113 0.76612431 0.77195466 0.77830464 0.78511328 0.79230803\n",
      " 0.79981947 0.80758566 0.81555635 0.82369113]\n",
      "16 day output [[0.8319582]]\n",
      "17 day input [0.69812655 0.71238365 0.71556498 0.71603629 0.71191234 0.70790621\n",
      " 0.71662543 0.6944739  0.69871568 0.69388476 0.69942265 0.67950984\n",
      " 0.68646165 0.67196889 0.68481207 0.70001178 0.70001178 0.70001178\n",
      " 0.72652292 0.72487334 0.73194297 0.721692   0.72451985 0.74066219\n",
      " 0.74796748 0.74796748 0.75480146 0.72263462 0.7100271  0.72216331\n",
      " 0.73571344 0.73618475 0.74879227 0.74867444 0.75103099 0.74490397\n",
      " 0.73500648 0.74030871 0.73618475 0.74254743 0.74290091 0.74384353\n",
      " 0.75197361 0.75986803 0.76422764 0.76328502 0.76022152 0.760575\n",
      " 0.76481678 0.76752681 0.77153293 0.77659951 0.77942736 0.77671733\n",
      " 0.7748321  0.78060563 0.77235772 0.76846942 0.77954519 0.77848474\n",
      " 0.7903853  0.79427359 0.78743961 0.7843761  0.77848474 0.76646636\n",
      " 0.76222458 0.76681984 0.77070814 0.77636385 0.7916814  0.79062095\n",
      " 0.77907388 0.76281372 0.77235772 0.74784965 0.74702486 0.75939672\n",
      " 0.74973489 0.76540591 0.75032402 0.74702486 0.73029339 0.73512614\n",
      " 0.73711634 0.74249023 0.74732131 0.75167161 0.75607127 0.76084113\n",
      " 0.76612431 0.77195466 0.77830464 0.78511328 0.79230803 0.79981947\n",
      " 0.80758566 0.81555635 0.82369113 0.83195817]\n",
      "17 day output [[0.8403304]]\n",
      "18 day input [0.71238365 0.71556498 0.71603629 0.71191234 0.70790621 0.71662543\n",
      " 0.6944739  0.69871568 0.69388476 0.69942265 0.67950984 0.68646165\n",
      " 0.67196889 0.68481207 0.70001178 0.70001178 0.70001178 0.72652292\n",
      " 0.72487334 0.73194297 0.721692   0.72451985 0.74066219 0.74796748\n",
      " 0.74796748 0.75480146 0.72263462 0.7100271  0.72216331 0.73571344\n",
      " 0.73618475 0.74879227 0.74867444 0.75103099 0.74490397 0.73500648\n",
      " 0.74030871 0.73618475 0.74254743 0.74290091 0.74384353 0.75197361\n",
      " 0.75986803 0.76422764 0.76328502 0.76022152 0.760575   0.76481678\n",
      " 0.76752681 0.77153293 0.77659951 0.77942736 0.77671733 0.7748321\n",
      " 0.78060563 0.77235772 0.76846942 0.77954519 0.77848474 0.7903853\n",
      " 0.79427359 0.78743961 0.7843761  0.77848474 0.76646636 0.76222458\n",
      " 0.76681984 0.77070814 0.77636385 0.7916814  0.79062095 0.77907388\n",
      " 0.76281372 0.77235772 0.74784965 0.74702486 0.75939672 0.74973489\n",
      " 0.76540591 0.75032402 0.74702486 0.73029339 0.73512614 0.73711634\n",
      " 0.74249023 0.74732131 0.75167161 0.75607127 0.76084113 0.76612431\n",
      " 0.77195466 0.77830464 0.78511328 0.79230803 0.79981947 0.80758566\n",
      " 0.81555635 0.82369113 0.83195817 0.84033042]\n",
      "18 day output [[0.848785]]\n",
      "19 day input [0.71556498 0.71603629 0.71191234 0.70790621 0.71662543 0.6944739\n",
      " 0.69871568 0.69388476 0.69942265 0.67950984 0.68646165 0.67196889\n",
      " 0.68481207 0.70001178 0.70001178 0.70001178 0.72652292 0.72487334\n",
      " 0.73194297 0.721692   0.72451985 0.74066219 0.74796748 0.74796748\n",
      " 0.75480146 0.72263462 0.7100271  0.72216331 0.73571344 0.73618475\n",
      " 0.74879227 0.74867444 0.75103099 0.74490397 0.73500648 0.74030871\n",
      " 0.73618475 0.74254743 0.74290091 0.74384353 0.75197361 0.75986803\n",
      " 0.76422764 0.76328502 0.76022152 0.760575   0.76481678 0.76752681\n",
      " 0.77153293 0.77659951 0.77942736 0.77671733 0.7748321  0.78060563\n",
      " 0.77235772 0.76846942 0.77954519 0.77848474 0.7903853  0.79427359\n",
      " 0.78743961 0.7843761  0.77848474 0.76646636 0.76222458 0.76681984\n",
      " 0.77070814 0.77636385 0.7916814  0.79062095 0.77907388 0.76281372\n",
      " 0.77235772 0.74784965 0.74702486 0.75939672 0.74973489 0.76540591\n",
      " 0.75032402 0.74702486 0.73029339 0.73512614 0.73711634 0.74249023\n",
      " 0.74732131 0.75167161 0.75607127 0.76084113 0.76612431 0.77195466\n",
      " 0.77830464 0.78511328 0.79230803 0.79981947 0.80758566 0.81555635\n",
      " 0.82369113 0.83195817 0.84033042 0.84878498]\n",
      "19 day output [[0.8573007]]\n",
      "20 day input [0.71603629 0.71191234 0.70790621 0.71662543 0.6944739  0.69871568\n",
      " 0.69388476 0.69942265 0.67950984 0.68646165 0.67196889 0.68481207\n",
      " 0.70001178 0.70001178 0.70001178 0.72652292 0.72487334 0.73194297\n",
      " 0.721692   0.72451985 0.74066219 0.74796748 0.74796748 0.75480146\n",
      " 0.72263462 0.7100271  0.72216331 0.73571344 0.73618475 0.74879227\n",
      " 0.74867444 0.75103099 0.74490397 0.73500648 0.74030871 0.73618475\n",
      " 0.74254743 0.74290091 0.74384353 0.75197361 0.75986803 0.76422764\n",
      " 0.76328502 0.76022152 0.760575   0.76481678 0.76752681 0.77153293\n",
      " 0.77659951 0.77942736 0.77671733 0.7748321  0.78060563 0.77235772\n",
      " 0.76846942 0.77954519 0.77848474 0.7903853  0.79427359 0.78743961\n",
      " 0.7843761  0.77848474 0.76646636 0.76222458 0.76681984 0.77070814\n",
      " 0.77636385 0.7916814  0.79062095 0.77907388 0.76281372 0.77235772\n",
      " 0.74784965 0.74702486 0.75939672 0.74973489 0.76540591 0.75032402\n",
      " 0.74702486 0.73029339 0.73512614 0.73711634 0.74249023 0.74732131\n",
      " 0.75167161 0.75607127 0.76084113 0.76612431 0.77195466 0.77830464\n",
      " 0.78511328 0.79230803 0.79981947 0.80758566 0.81555635 0.82369113\n",
      " 0.83195817 0.84033042 0.84878498 0.8573007 ]\n",
      "20 day output [[0.865857]]\n",
      "21 day input [0.71191234 0.70790621 0.71662543 0.6944739  0.69871568 0.69388476\n",
      " 0.69942265 0.67950984 0.68646165 0.67196889 0.68481207 0.70001178\n",
      " 0.70001178 0.70001178 0.72652292 0.72487334 0.73194297 0.721692\n",
      " 0.72451985 0.74066219 0.74796748 0.74796748 0.75480146 0.72263462\n",
      " 0.7100271  0.72216331 0.73571344 0.73618475 0.74879227 0.74867444\n",
      " 0.75103099 0.74490397 0.73500648 0.74030871 0.73618475 0.74254743\n",
      " 0.74290091 0.74384353 0.75197361 0.75986803 0.76422764 0.76328502\n",
      " 0.76022152 0.760575   0.76481678 0.76752681 0.77153293 0.77659951\n",
      " 0.77942736 0.77671733 0.7748321  0.78060563 0.77235772 0.76846942\n",
      " 0.77954519 0.77848474 0.7903853  0.79427359 0.78743961 0.7843761\n",
      " 0.77848474 0.76646636 0.76222458 0.76681984 0.77070814 0.77636385\n",
      " 0.7916814  0.79062095 0.77907388 0.76281372 0.77235772 0.74784965\n",
      " 0.74702486 0.75939672 0.74973489 0.76540591 0.75032402 0.74702486\n",
      " 0.73029339 0.73512614 0.73711634 0.74249023 0.74732131 0.75167161\n",
      " 0.75607127 0.76084113 0.76612431 0.77195466 0.77830464 0.78511328\n",
      " 0.79230803 0.79981947 0.80758566 0.81555635 0.82369113 0.83195817\n",
      " 0.84033042 0.84878498 0.8573007  0.86585701]\n",
      "21 day output [[0.8744339]]\n",
      "22 day input [0.70790621 0.71662543 0.6944739  0.69871568 0.69388476 0.69942265\n",
      " 0.67950984 0.68646165 0.67196889 0.68481207 0.70001178 0.70001178\n",
      " 0.70001178 0.72652292 0.72487334 0.73194297 0.721692   0.72451985\n",
      " 0.74066219 0.74796748 0.74796748 0.75480146 0.72263462 0.7100271\n",
      " 0.72216331 0.73571344 0.73618475 0.74879227 0.74867444 0.75103099\n",
      " 0.74490397 0.73500648 0.74030871 0.73618475 0.74254743 0.74290091\n",
      " 0.74384353 0.75197361 0.75986803 0.76422764 0.76328502 0.76022152\n",
      " 0.760575   0.76481678 0.76752681 0.77153293 0.77659951 0.77942736\n",
      " 0.77671733 0.7748321  0.78060563 0.77235772 0.76846942 0.77954519\n",
      " 0.77848474 0.7903853  0.79427359 0.78743961 0.7843761  0.77848474\n",
      " 0.76646636 0.76222458 0.76681984 0.77070814 0.77636385 0.7916814\n",
      " 0.79062095 0.77907388 0.76281372 0.77235772 0.74784965 0.74702486\n",
      " 0.75939672 0.74973489 0.76540591 0.75032402 0.74702486 0.73029339\n",
      " 0.73512614 0.73711634 0.74249023 0.74732131 0.75167161 0.75607127\n",
      " 0.76084113 0.76612431 0.77195466 0.77830464 0.78511328 0.79230803\n",
      " 0.79981947 0.80758566 0.81555635 0.82369113 0.83195817 0.84033042\n",
      " 0.84878498 0.8573007  0.86585701 0.87443388]\n",
      "22 day output [[0.8830109]]\n",
      "23 day input [0.71662543 0.6944739  0.69871568 0.69388476 0.69942265 0.67950984\n",
      " 0.68646165 0.67196889 0.68481207 0.70001178 0.70001178 0.70001178\n",
      " 0.72652292 0.72487334 0.73194297 0.721692   0.72451985 0.74066219\n",
      " 0.74796748 0.74796748 0.75480146 0.72263462 0.7100271  0.72216331\n",
      " 0.73571344 0.73618475 0.74879227 0.74867444 0.75103099 0.74490397\n",
      " 0.73500648 0.74030871 0.73618475 0.74254743 0.74290091 0.74384353\n",
      " 0.75197361 0.75986803 0.76422764 0.76328502 0.76022152 0.760575\n",
      " 0.76481678 0.76752681 0.77153293 0.77659951 0.77942736 0.77671733\n",
      " 0.7748321  0.78060563 0.77235772 0.76846942 0.77954519 0.77848474\n",
      " 0.7903853  0.79427359 0.78743961 0.7843761  0.77848474 0.76646636\n",
      " 0.76222458 0.76681984 0.77070814 0.77636385 0.7916814  0.79062095\n",
      " 0.77907388 0.76281372 0.77235772 0.74784965 0.74702486 0.75939672\n",
      " 0.74973489 0.76540591 0.75032402 0.74702486 0.73029339 0.73512614\n",
      " 0.73711634 0.74249023 0.74732131 0.75167161 0.75607127 0.76084113\n",
      " 0.76612431 0.77195466 0.77830464 0.78511328 0.79230803 0.79981947\n",
      " 0.80758566 0.81555635 0.82369113 0.83195817 0.84033042 0.84878498\n",
      " 0.8573007  0.86585701 0.87443388 0.88301092]\n",
      "23 day output [[0.8915684]]\n",
      "24 day input [0.6944739  0.69871568 0.69388476 0.69942265 0.67950984 0.68646165\n",
      " 0.67196889 0.68481207 0.70001178 0.70001178 0.70001178 0.72652292\n",
      " 0.72487334 0.73194297 0.721692   0.72451985 0.74066219 0.74796748\n",
      " 0.74796748 0.75480146 0.72263462 0.7100271  0.72216331 0.73571344\n",
      " 0.73618475 0.74879227 0.74867444 0.75103099 0.74490397 0.73500648\n",
      " 0.74030871 0.73618475 0.74254743 0.74290091 0.74384353 0.75197361\n",
      " 0.75986803 0.76422764 0.76328502 0.76022152 0.760575   0.76481678\n",
      " 0.76752681 0.77153293 0.77659951 0.77942736 0.77671733 0.7748321\n",
      " 0.78060563 0.77235772 0.76846942 0.77954519 0.77848474 0.7903853\n",
      " 0.79427359 0.78743961 0.7843761  0.77848474 0.76646636 0.76222458\n",
      " 0.76681984 0.77070814 0.77636385 0.7916814  0.79062095 0.77907388\n",
      " 0.76281372 0.77235772 0.74784965 0.74702486 0.75939672 0.74973489\n",
      " 0.76540591 0.75032402 0.74702486 0.73029339 0.73512614 0.73711634\n",
      " 0.74249023 0.74732131 0.75167161 0.75607127 0.76084113 0.76612431\n",
      " 0.77195466 0.77830464 0.78511328 0.79230803 0.79981947 0.80758566\n",
      " 0.81555635 0.82369113 0.83195817 0.84033042 0.84878498 0.8573007\n",
      " 0.86585701 0.87443388 0.88301092 0.89156842]\n",
      "24 day output [[0.9000847]]\n",
      "25 day input [0.69871568 0.69388476 0.69942265 0.67950984 0.68646165 0.67196889\n",
      " 0.68481207 0.70001178 0.70001178 0.70001178 0.72652292 0.72487334\n",
      " 0.73194297 0.721692   0.72451985 0.74066219 0.74796748 0.74796748\n",
      " 0.75480146 0.72263462 0.7100271  0.72216331 0.73571344 0.73618475\n",
      " 0.74879227 0.74867444 0.75103099 0.74490397 0.73500648 0.74030871\n",
      " 0.73618475 0.74254743 0.74290091 0.74384353 0.75197361 0.75986803\n",
      " 0.76422764 0.76328502 0.76022152 0.760575   0.76481678 0.76752681\n",
      " 0.77153293 0.77659951 0.77942736 0.77671733 0.7748321  0.78060563\n",
      " 0.77235772 0.76846942 0.77954519 0.77848474 0.7903853  0.79427359\n",
      " 0.78743961 0.7843761  0.77848474 0.76646636 0.76222458 0.76681984\n",
      " 0.77070814 0.77636385 0.7916814  0.79062095 0.77907388 0.76281372\n",
      " 0.77235772 0.74784965 0.74702486 0.75939672 0.74973489 0.76540591\n",
      " 0.75032402 0.74702486 0.73029339 0.73512614 0.73711634 0.74249023\n",
      " 0.74732131 0.75167161 0.75607127 0.76084113 0.76612431 0.77195466\n",
      " 0.77830464 0.78511328 0.79230803 0.79981947 0.80758566 0.81555635\n",
      " 0.82369113 0.83195817 0.84033042 0.84878498 0.8573007  0.86585701\n",
      " 0.87443388 0.88301092 0.89156842 0.90008467]\n",
      "25 day output [[0.9085389]]\n",
      "26 day input [0.69388476 0.69942265 0.67950984 0.68646165 0.67196889 0.68481207\n",
      " 0.70001178 0.70001178 0.70001178 0.72652292 0.72487334 0.73194297\n",
      " 0.721692   0.72451985 0.74066219 0.74796748 0.74796748 0.75480146\n",
      " 0.72263462 0.7100271  0.72216331 0.73571344 0.73618475 0.74879227\n",
      " 0.74867444 0.75103099 0.74490397 0.73500648 0.74030871 0.73618475\n",
      " 0.74254743 0.74290091 0.74384353 0.75197361 0.75986803 0.76422764\n",
      " 0.76328502 0.76022152 0.760575   0.76481678 0.76752681 0.77153293\n",
      " 0.77659951 0.77942736 0.77671733 0.7748321  0.78060563 0.77235772\n",
      " 0.76846942 0.77954519 0.77848474 0.7903853  0.79427359 0.78743961\n",
      " 0.7843761  0.77848474 0.76646636 0.76222458 0.76681984 0.77070814\n",
      " 0.77636385 0.7916814  0.79062095 0.77907388 0.76281372 0.77235772\n",
      " 0.74784965 0.74702486 0.75939672 0.74973489 0.76540591 0.75032402\n",
      " 0.74702486 0.73029339 0.73512614 0.73711634 0.74249023 0.74732131\n",
      " 0.75167161 0.75607127 0.76084113 0.76612431 0.77195466 0.77830464\n",
      " 0.78511328 0.79230803 0.79981947 0.80758566 0.81555635 0.82369113\n",
      " 0.83195817 0.84033042 0.84878498 0.8573007  0.86585701 0.87443388\n",
      " 0.88301092 0.89156842 0.90008467 0.90853888]\n",
      "26 day output [[0.91690934]]\n",
      "27 day input [0.69942265 0.67950984 0.68646165 0.67196889 0.68481207 0.70001178\n",
      " 0.70001178 0.70001178 0.72652292 0.72487334 0.73194297 0.721692\n",
      " 0.72451985 0.74066219 0.74796748 0.74796748 0.75480146 0.72263462\n",
      " 0.7100271  0.72216331 0.73571344 0.73618475 0.74879227 0.74867444\n",
      " 0.75103099 0.74490397 0.73500648 0.74030871 0.73618475 0.74254743\n",
      " 0.74290091 0.74384353 0.75197361 0.75986803 0.76422764 0.76328502\n",
      " 0.76022152 0.760575   0.76481678 0.76752681 0.77153293 0.77659951\n",
      " 0.77942736 0.77671733 0.7748321  0.78060563 0.77235772 0.76846942\n",
      " 0.77954519 0.77848474 0.7903853  0.79427359 0.78743961 0.7843761\n",
      " 0.77848474 0.76646636 0.76222458 0.76681984 0.77070814 0.77636385\n",
      " 0.7916814  0.79062095 0.77907388 0.76281372 0.77235772 0.74784965\n",
      " 0.74702486 0.75939672 0.74973489 0.76540591 0.75032402 0.74702486\n",
      " 0.73029339 0.73512614 0.73711634 0.74249023 0.74732131 0.75167161\n",
      " 0.75607127 0.76084113 0.76612431 0.77195466 0.77830464 0.78511328\n",
      " 0.79230803 0.79981947 0.80758566 0.81555635 0.82369113 0.83195817\n",
      " 0.84033042 0.84878498 0.8573007  0.86585701 0.87443388 0.88301092\n",
      " 0.89156842 0.90008467 0.90853888 0.91690934]\n",
      "27 day output [[0.9251749]]\n",
      "28 day input [0.67950984 0.68646165 0.67196889 0.68481207 0.70001178 0.70001178\n",
      " 0.70001178 0.72652292 0.72487334 0.73194297 0.721692   0.72451985\n",
      " 0.74066219 0.74796748 0.74796748 0.75480146 0.72263462 0.7100271\n",
      " 0.72216331 0.73571344 0.73618475 0.74879227 0.74867444 0.75103099\n",
      " 0.74490397 0.73500648 0.74030871 0.73618475 0.74254743 0.74290091\n",
      " 0.74384353 0.75197361 0.75986803 0.76422764 0.76328502 0.76022152\n",
      " 0.760575   0.76481678 0.76752681 0.77153293 0.77659951 0.77942736\n",
      " 0.77671733 0.7748321  0.78060563 0.77235772 0.76846942 0.77954519\n",
      " 0.77848474 0.7903853  0.79427359 0.78743961 0.7843761  0.77848474\n",
      " 0.76646636 0.76222458 0.76681984 0.77070814 0.77636385 0.7916814\n",
      " 0.79062095 0.77907388 0.76281372 0.77235772 0.74784965 0.74702486\n",
      " 0.75939672 0.74973489 0.76540591 0.75032402 0.74702486 0.73029339\n",
      " 0.73512614 0.73711634 0.74249023 0.74732131 0.75167161 0.75607127\n",
      " 0.76084113 0.76612431 0.77195466 0.77830464 0.78511328 0.79230803\n",
      " 0.79981947 0.80758566 0.81555635 0.82369113 0.83195817 0.84033042\n",
      " 0.84878498 0.8573007  0.86585701 0.87443388 0.88301092 0.89156842\n",
      " 0.90008467 0.90853888 0.91690934 0.92517489]\n",
      "28 day output [[0.9333141]]\n",
      "29 day input [0.68646165 0.67196889 0.68481207 0.70001178 0.70001178 0.70001178\n",
      " 0.72652292 0.72487334 0.73194297 0.721692   0.72451985 0.74066219\n",
      " 0.74796748 0.74796748 0.75480146 0.72263462 0.7100271  0.72216331\n",
      " 0.73571344 0.73618475 0.74879227 0.74867444 0.75103099 0.74490397\n",
      " 0.73500648 0.74030871 0.73618475 0.74254743 0.74290091 0.74384353\n",
      " 0.75197361 0.75986803 0.76422764 0.76328502 0.76022152 0.760575\n",
      " 0.76481678 0.76752681 0.77153293 0.77659951 0.77942736 0.77671733\n",
      " 0.7748321  0.78060563 0.77235772 0.76846942 0.77954519 0.77848474\n",
      " 0.7903853  0.79427359 0.78743961 0.7843761  0.77848474 0.76646636\n",
      " 0.76222458 0.76681984 0.77070814 0.77636385 0.7916814  0.79062095\n",
      " 0.77907388 0.76281372 0.77235772 0.74784965 0.74702486 0.75939672\n",
      " 0.74973489 0.76540591 0.75032402 0.74702486 0.73029339 0.73512614\n",
      " 0.73711634 0.74249023 0.74732131 0.75167161 0.75607127 0.76084113\n",
      " 0.76612431 0.77195466 0.77830464 0.78511328 0.79230803 0.79981947\n",
      " 0.80758566 0.81555635 0.82369113 0.83195817 0.84033042 0.84878498\n",
      " 0.8573007  0.86585701 0.87443388 0.88301092 0.89156842 0.90008467\n",
      " 0.90853888 0.91690934 0.92517489 0.93331409]\n",
      "29 day output [[0.94130576]]\n",
      "[[0.7351261377334595], [0.7371163368225098], [0.7424902319908142], [0.7473213076591492], [0.7516716122627258], [0.7560712695121765], [0.7608411312103271], [0.7661243081092834], [0.7719546556472778], [0.7783046364784241], [0.7851132750511169], [0.7923080325126648], [0.7998194694519043], [0.8075856566429138], [0.8155563473701477], [0.8236911296844482], [0.8319581747055054], [0.8403304219245911], [0.8487849831581116], [0.8573006987571716], [0.8658570051193237], [0.8744338750839233], [0.8830109238624573], [0.8915684223175049], [0.9000846743583679], [0.9085388779640198], [0.9169093370437622], [0.9251748919487], [0.9333140850067139], [0.9413057565689087]]\n"
     ]
    }
   ],
   "source": [
    "lst_output = [] #Predicted 30 days output\n",
    "n_steps = 100\n",
    "i = 0\n",
    "while(i<30):\n",
    "    if(len(temp_input)>100):\n",
    "        pred_input = np.array(temp_input[1:]) #for last 100 data\n",
    "        print(\"{} day input {}\".format(i, pred_input))\n",
    "        pred_input = pred_input.reshape(1, -1)\n",
    "        pred_input = pred_input.reshape((1, n_steps, 1))\n",
    "        \n",
    "        yhat = model.predict(pred_input, verbose = 0)\n",
    "        print(\"{} day output {}\".format(i, yhat))\n",
    "        temp_input.extend(yhat[0].tolist())\n",
    "        temp_input=temp_input[1:]\n",
    "        \n",
    "        lst_output.extend(yhat.tolist())\n",
    "        i=i+1\n",
    "    else:\n",
    "        pred_input = pred_input.reshape((1, n_steps, 1))\n",
    "        yhat = model.predict(pred_input, verbose = 0)\n",
    "        print(yhat[0])\n",
    "        temp_input.extend(yhat[0].tolist())\n",
    "        print(len(temp_input))\n",
    "        lst_output.extend(yhat.tolist())\n",
    "        i=i+1\n",
    "        \n",
    "print(lst_output)"
   ]
  },
  {
   "attachments": {},
   "cell_type": "markdown",
   "id": "f389c741-b0c6-4a0a-952f-4aa8d151508c",
   "metadata": {},
   "source": [
    "**Plotting last 130 days Closing Price**"
   ]
  },
  {
   "cell_type": "code",
   "execution_count": 207,
   "id": "1e7ea586-701b-4c7f-8052-67d57c8bbecb",
   "metadata": {},
   "outputs": [],
   "source": [
    "day_new = np.arange(1, 101)\n",
    "day_pred = np.arange(101, 131)"
   ]
  },
  {
   "cell_type": "code",
   "execution_count": 208,
   "id": "5006cbf0-02cd-41ad-8d56-369ddf709464",
   "metadata": {},
   "outputs": [
    {
     "data": {
      "text/plain": [
       "3767"
      ]
     },
     "execution_count": 208,
     "metadata": {},
     "output_type": "execute_result"
    }
   ],
   "source": [
    "len(close_srt)"
   ]
  },
  {
   "cell_type": "code",
   "execution_count": 209,
   "id": "0e250aa5-99d1-4794-b031-6c1024ec9301",
   "metadata": {},
   "outputs": [
    {
     "data": {
      "image/png": "[encoded data removed]",
      "text/plain": [
       "<Figure size 800x500 with 1 Axes>"
      ]
     },
     "metadata": {},
     "output_type": "display_data"
    }
   ],
   "source": [
    "plt.figure(figsize = (8, 5))\n",
    "plt.plot(day_new, scaler.inverse_transform(close_srt[3667:]), label='Current Closing Price')\n",
    "plt.plot(day_pred, scaler.inverse_transform(lst_output), label='Upcoming Closing Price')\n",
    "plt.xlabel('last 130 Days', size = 10)\n",
    "plt.ylabel('Close', size=10)\n",
    "plt.title('Upcoming Close Price Prediction', size=15)\n",
    "plt.legend()\n",
    "plt.show()"
   ]
  },
  {
   "attachments": {},
   "cell_type": "markdown",
   "id": "f1bac674-cf00-41df-99d6-9078b4c0f239",
   "metadata": {},
   "source": [
    "**Appending in a list is done to make continuous graph**"
   ]
  },
  {
   "cell_type": "code",
   "execution_count": 210,
   "id": "a4d4b862-0df8-4af2-9537-e607dd917a0e",
   "metadata": {},
   "outputs": [],
   "source": [
    "df3 = close_srt.tolist()\n",
    "#adding specified list of predicted 30 days output to the end of 100 days \n",
    "df3.extend(lst_output)"
   ]
  },
  {
   "cell_type": "code",
   "execution_count": 211,
   "id": "5ba763eb-9974-4f7d-9eaa-78f5c11a3c28",
   "metadata": {},
   "outputs": [
    {
     "name": "stdout",
     "output_type": "stream",
     "text": [
      "3797\n"
     ]
    }
   ],
   "source": [
    "print(len(df3))"
   ]
  },
  {
   "cell_type": "code",
   "execution_count": 212,
   "id": "61e41c3a-ce51-4dea-9dc2-c73df6b4533f",
   "metadata": {},
   "outputs": [
    {
     "data": {
      "image/png": "[encoded data removed]",
      "text/plain": [
       "<Figure size 800x500 with 1 Axes>"
      ]
     },
     "metadata": {},
     "output_type": "display_data"
    }
   ],
   "source": [
    "plt.figure(figsize = (8, 5))\n",
    "plt.plot(df3[3667:]) #latest 100 days output\n",
    "plt.xlabel('No. of Days', size = 10)\n",
    "plt.ylabel('Close', size=10)\n",
    "plt.title('Close Price Prediction', size=15)\n",
    "plt.show()"
   ]
  },
  {
   "attachments": {},
   "cell_type": "markdown",
   "id": "a0e20709-02a2-4ce2-902f-4f5d05a4fdb7",
   "metadata": {},
   "source": [
    "**Plotting the Graph with predicted 30 days output**"
   ]
  },
  {
   "cell_type": "code",
   "execution_count": 213,
   "id": "56e37cf2-4c53-478c-b2e6-3147662831b3",
   "metadata": {},
   "outputs": [],
   "source": [
    "df3 = scaler.inverse_transform(df3).tolist() #updoing scaling of df3"
   ]
  },
  {
   "cell_type": "code",
   "execution_count": 214,
   "id": "8e1a9db3-a31e-4f16-be71-be04d7bd72a8",
   "metadata": {},
   "outputs": [
    {
     "data": {
      "image/png": "[encoded data removed]",
      "text/plain": [
       "<Figure size 800x500 with 1 Axes>"
      ]
     },
     "metadata": {},
     "output_type": "display_data"
    }
   ],
   "source": [
    "plt.figure(figsize = (8, 5))\n",
    "plt.plot( df3)\n",
    "plt.xlabel('No. of days')\n",
    "plt.ylabel('Close')\n",
    "plt.title('Predicted Stock price')\n",
    "plt.show()"
   ]
  },
  {
   "cell_type": "code",
   "execution_count": null,
   "id": "c4c8e26b-6aa4-4b46-aad7-5f5cc888c9e7",
   "metadata": {},
   "outputs": [],
   "source": []
  }
 ],
 "metadata": {
  "kernelspec": {
   "display_name": "Python 3 (ipykernel)",
   "language": "python",
   "name": "python3"
  },
  "language_info": {
   "codemirror_mode": {
    "name": "ipython",
    "version": 3
   },
   "file_extension": ".py",
   "mimetype": "text/x-python",
   "name": "python",
   "nbconvert_exporter": "python",
   "pygments_lexer": "ipython3",
   "version": "3.10.4"
  }
 },
 "nbformat": 4,
 "nbformat_minor": 5
}
